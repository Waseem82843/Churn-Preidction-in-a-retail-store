{
 "cells": [
  {
   "cell_type": "code",
   "execution_count": 1,
   "metadata": {},
   "outputs": [],
   "source": [
    "import numpy as np\n",
    "import pandas as pd\n",
    "from sklearn.model_selection import train_test_split\n",
    "from sklearn.linear_model import LogisticRegression\n",
    "from sklearn.neighbors import KNeighborsClassifier\n",
    "from sklearn.metrics import confusion_matrix, roc_auc_score, precision_recall_curve, precision_score, accuracy_score\n",
    "from sklearn.metrics import recall_score, classification_report, f1_score, roc_curve, auc\n",
    "from sklearn.ensemble import RandomForestClassifier\n",
    "from sklearn.tree import DecisionTreeClassifier\n",
    "from sklearn.model_selection import GridSearchCV\n",
    "\n",
    "\n",
    "import matplotlib.pyplot as plt\n",
    "import seaborn as sns\n",
    "sns.set()\n",
    "%matplotlib inline"
   ]
  },
  {
   "cell_type": "code",
   "execution_count": 2,
   "metadata": {},
   "outputs": [],
   "source": [
    "data = pd.read_csv('Final_ADS.csv')\n",
    "df = data.copy()"
   ]
  },
  {
   "cell_type": "code",
   "execution_count": 3,
   "metadata": {},
   "outputs": [
    {
     "data": {
      "text/html": [
       "<div>\n",
       "<style scoped>\n",
       "    .dataframe tbody tr th:only-of-type {\n",
       "        vertical-align: middle;\n",
       "    }\n",
       "\n",
       "    .dataframe tbody tr th {\n",
       "        vertical-align: top;\n",
       "    }\n",
       "\n",
       "    .dataframe thead th {\n",
       "        text-align: right;\n",
       "    }\n",
       "</style>\n",
       "<table border=\"1\" class=\"dataframe\">\n",
       "  <thead>\n",
       "    <tr style=\"text-align: right;\">\n",
       "      <th></th>\n",
       "      <th>CUSTOMER_ID</th>\n",
       "      <th>HISTORIC_VISITS</th>\n",
       "      <th>HISTORIC_SALES</th>\n",
       "      <th>STD_SALESAMOUNT</th>\n",
       "      <th>VARIATION_SALESAMOUNT</th>\n",
       "      <th>MAX_SALESAMOUNT</th>\n",
       "      <th>MIN_SALESAMOUNT</th>\n",
       "      <th>W1_HISTORIC_VISITS</th>\n",
       "      <th>W2_HISTORIC_VISITS</th>\n",
       "      <th>W3_HISTORIC_VISITS</th>\n",
       "      <th>...</th>\n",
       "      <th>W4_MIN_SALESAMOUNT</th>\n",
       "      <th>W5_MIN_SALESAMOUNT</th>\n",
       "      <th>W1_MAX_SALESAMOUNT</th>\n",
       "      <th>W2_MAX_SALESAMOUNT</th>\n",
       "      <th>W3_MAX_SALESAMOUNT</th>\n",
       "      <th>W4_MAX_SALESAMOUNT</th>\n",
       "      <th>W5_MAX_SALESAMOUNT</th>\n",
       "      <th>CHURN</th>\n",
       "      <th>FIRST_VISIT_DAY</th>\n",
       "      <th>LAST_VISIT_DAY</th>\n",
       "    </tr>\n",
       "  </thead>\n",
       "  <tbody>\n",
       "    <tr>\n",
       "      <th>0</th>\n",
       "      <td>488</td>\n",
       "      <td>1.0</td>\n",
       "      <td>5.148657</td>\n",
       "      <td>0.000000</td>\n",
       "      <td>0.00000</td>\n",
       "      <td>5.148657</td>\n",
       "      <td>5.148657</td>\n",
       "      <td>0.0</td>\n",
       "      <td>0.0</td>\n",
       "      <td>1.0</td>\n",
       "      <td>...</td>\n",
       "      <td>0.000000</td>\n",
       "      <td>0.000000</td>\n",
       "      <td>0.000000</td>\n",
       "      <td>0.000000</td>\n",
       "      <td>5.148657</td>\n",
       "      <td>0.000000</td>\n",
       "      <td>0.000000</td>\n",
       "      <td>1</td>\n",
       "      <td>16</td>\n",
       "      <td>16</td>\n",
       "    </tr>\n",
       "    <tr>\n",
       "      <th>1</th>\n",
       "      <td>5194</td>\n",
       "      <td>1.0</td>\n",
       "      <td>6.397263</td>\n",
       "      <td>0.000000</td>\n",
       "      <td>0.00000</td>\n",
       "      <td>6.397263</td>\n",
       "      <td>6.397263</td>\n",
       "      <td>0.0</td>\n",
       "      <td>1.0</td>\n",
       "      <td>0.0</td>\n",
       "      <td>...</td>\n",
       "      <td>0.000000</td>\n",
       "      <td>0.000000</td>\n",
       "      <td>0.000000</td>\n",
       "      <td>6.397263</td>\n",
       "      <td>0.000000</td>\n",
       "      <td>0.000000</td>\n",
       "      <td>0.000000</td>\n",
       "      <td>1</td>\n",
       "      <td>10</td>\n",
       "      <td>10</td>\n",
       "    </tr>\n",
       "    <tr>\n",
       "      <th>2</th>\n",
       "      <td>5398</td>\n",
       "      <td>2.0</td>\n",
       "      <td>4.641695</td>\n",
       "      <td>0.000000</td>\n",
       "      <td>0.00000</td>\n",
       "      <td>3.958143</td>\n",
       "      <td>3.958143</td>\n",
       "      <td>0.0</td>\n",
       "      <td>1.0</td>\n",
       "      <td>0.0</td>\n",
       "      <td>...</td>\n",
       "      <td>3.958143</td>\n",
       "      <td>0.000000</td>\n",
       "      <td>0.000000</td>\n",
       "      <td>3.958143</td>\n",
       "      <td>0.000000</td>\n",
       "      <td>3.958143</td>\n",
       "      <td>0.000000</td>\n",
       "      <td>0</td>\n",
       "      <td>26</td>\n",
       "      <td>12</td>\n",
       "    </tr>\n",
       "    <tr>\n",
       "      <th>3</th>\n",
       "      <td>6930</td>\n",
       "      <td>6.0</td>\n",
       "      <td>6.397263</td>\n",
       "      <td>3.582019</td>\n",
       "      <td>7.10843</td>\n",
       "      <td>5.148657</td>\n",
       "      <td>4.461300</td>\n",
       "      <td>1.0</td>\n",
       "      <td>2.0</td>\n",
       "      <td>1.0</td>\n",
       "      <td>...</td>\n",
       "      <td>4.461300</td>\n",
       "      <td>0.000000</td>\n",
       "      <td>4.461300</td>\n",
       "      <td>5.148657</td>\n",
       "      <td>4.461300</td>\n",
       "      <td>4.461300</td>\n",
       "      <td>0.000000</td>\n",
       "      <td>0</td>\n",
       "      <td>24</td>\n",
       "      <td>4</td>\n",
       "    </tr>\n",
       "    <tr>\n",
       "      <th>4</th>\n",
       "      <td>7260</td>\n",
       "      <td>14.0</td>\n",
       "      <td>7.585687</td>\n",
       "      <td>3.988061</td>\n",
       "      <td>7.93906</td>\n",
       "      <td>5.552184</td>\n",
       "      <td>4.241039</td>\n",
       "      <td>4.0</td>\n",
       "      <td>3.0</td>\n",
       "      <td>4.0</td>\n",
       "      <td>...</td>\n",
       "      <td>4.461300</td>\n",
       "      <td>5.148657</td>\n",
       "      <td>5.148657</td>\n",
       "      <td>5.148657</td>\n",
       "      <td>5.552184</td>\n",
       "      <td>5.148657</td>\n",
       "      <td>5.148657</td>\n",
       "      <td>0</td>\n",
       "      <td>30</td>\n",
       "      <td>0</td>\n",
       "    </tr>\n",
       "  </tbody>\n",
       "</table>\n",
       "<p>5 rows × 40 columns</p>\n",
       "</div>"
      ],
      "text/plain": [
       "   CUSTOMER_ID  HISTORIC_VISITS  HISTORIC_SALES  STD_SALESAMOUNT  \\\n",
       "0          488              1.0        5.148657         0.000000   \n",
       "1         5194              1.0        6.397263         0.000000   \n",
       "2         5398              2.0        4.641695         0.000000   \n",
       "3         6930              6.0        6.397263         3.582019   \n",
       "4         7260             14.0        7.585687         3.988061   \n",
       "\n",
       "   VARIATION_SALESAMOUNT  MAX_SALESAMOUNT  MIN_SALESAMOUNT  \\\n",
       "0                0.00000         5.148657         5.148657   \n",
       "1                0.00000         6.397263         6.397263   \n",
       "2                0.00000         3.958143         3.958143   \n",
       "3                7.10843         5.148657         4.461300   \n",
       "4                7.93906         5.552184         4.241039   \n",
       "\n",
       "   W1_HISTORIC_VISITS  W2_HISTORIC_VISITS  W3_HISTORIC_VISITS  ...  \\\n",
       "0                 0.0                 0.0                 1.0  ...   \n",
       "1                 0.0                 1.0                 0.0  ...   \n",
       "2                 0.0                 1.0                 0.0  ...   \n",
       "3                 1.0                 2.0                 1.0  ...   \n",
       "4                 4.0                 3.0                 4.0  ...   \n",
       "\n",
       "   W4_MIN_SALESAMOUNT  W5_MIN_SALESAMOUNT  W1_MAX_SALESAMOUNT  \\\n",
       "0            0.000000            0.000000            0.000000   \n",
       "1            0.000000            0.000000            0.000000   \n",
       "2            3.958143            0.000000            0.000000   \n",
       "3            4.461300            0.000000            4.461300   \n",
       "4            4.461300            5.148657            5.148657   \n",
       "\n",
       "   W2_MAX_SALESAMOUNT  W3_MAX_SALESAMOUNT  W4_MAX_SALESAMOUNT  \\\n",
       "0            0.000000            5.148657            0.000000   \n",
       "1            6.397263            0.000000            0.000000   \n",
       "2            3.958143            0.000000            3.958143   \n",
       "3            5.148657            4.461300            4.461300   \n",
       "4            5.148657            5.552184            5.148657   \n",
       "\n",
       "   W5_MAX_SALESAMOUNT  CHURN  FIRST_VISIT_DAY  LAST_VISIT_DAY  \n",
       "0            0.000000      1               16              16  \n",
       "1            0.000000      1               10              10  \n",
       "2            0.000000      0               26              12  \n",
       "3            0.000000      0               24               4  \n",
       "4            5.148657      0               30               0  \n",
       "\n",
       "[5 rows x 40 columns]"
      ]
     },
     "execution_count": 3,
     "metadata": {},
     "output_type": "execute_result"
    }
   ],
   "source": [
    "df.head()"
   ]
  },
  {
   "cell_type": "code",
   "execution_count": 4,
   "metadata": {},
   "outputs": [],
   "source": [
    "x = df.drop(['CUSTOMER_ID','CHURN'],axis=1)"
   ]
  },
  {
   "cell_type": "code",
   "execution_count": 5,
   "metadata": {},
   "outputs": [
    {
     "data": {
      "text/plain": [
       "(200000, 38)"
      ]
     },
     "execution_count": 5,
     "metadata": {},
     "output_type": "execute_result"
    }
   ],
   "source": [
    "x.shape"
   ]
  },
  {
   "cell_type": "code",
   "execution_count": 6,
   "metadata": {},
   "outputs": [],
   "source": [
    "y = df[['CHURN']]"
   ]
  },
  {
   "cell_type": "code",
   "execution_count": 7,
   "metadata": {},
   "outputs": [
    {
     "data": {
      "text/plain": [
       "(200000, 1)"
      ]
     },
     "execution_count": 7,
     "metadata": {},
     "output_type": "execute_result"
    }
   ],
   "source": [
    "y.shape"
   ]
  },
  {
   "cell_type": "code",
   "execution_count": 8,
   "metadata": {},
   "outputs": [],
   "source": [
    "xtrain,xtest,ytrain,ytest=train_test_split(x,y,test_size=0.3,random_state=42)"
   ]
  },
  {
   "cell_type": "code",
   "execution_count": 9,
   "metadata": {},
   "outputs": [
    {
     "name": "stdout",
     "output_type": "stream",
     "text": [
      "(140000, 38) (140000, 1)\n"
     ]
    }
   ],
   "source": [
    "print(xtrain.shape,ytrain.shape)"
   ]
  },
  {
   "cell_type": "code",
   "execution_count": 10,
   "metadata": {},
   "outputs": [
    {
     "name": "stdout",
     "output_type": "stream",
     "text": [
      "(60000, 38) (60000, 1)\n"
     ]
    }
   ],
   "source": [
    "print(xtest.shape,ytest.shape)"
   ]
  },
  {
   "cell_type": "code",
   "execution_count": 11,
   "metadata": {},
   "outputs": [],
   "source": [
    "model=LogisticRegression(random_state=42)"
   ]
  },
  {
   "cell_type": "code",
   "execution_count": 12,
   "metadata": {},
   "outputs": [
    {
     "name": "stderr",
     "output_type": "stream",
     "text": [
      "C:\\Users\\DELL\\anaconda3\\lib\\site-packages\\sklearn\\utils\\validation.py:72: DataConversionWarning: A column-vector y was passed when a 1d array was expected. Please change the shape of y to (n_samples, ), for example using ravel().\n",
      "  return f(**kwargs)\n",
      "C:\\Users\\DELL\\anaconda3\\lib\\site-packages\\sklearn\\linear_model\\_logistic.py:762: ConvergenceWarning: lbfgs failed to converge (status=1):\n",
      "STOP: TOTAL NO. of ITERATIONS REACHED LIMIT.\n",
      "\n",
      "Increase the number of iterations (max_iter) or scale the data as shown in:\n",
      "    https://scikit-learn.org/stable/modules/preprocessing.html\n",
      "Please also refer to the documentation for alternative solver options:\n",
      "    https://scikit-learn.org/stable/modules/linear_model.html#logistic-regression\n",
      "  n_iter_i = _check_optimize_result(\n"
     ]
    },
    {
     "data": {
      "text/plain": [
       "LogisticRegression(random_state=42)"
      ]
     },
     "execution_count": 12,
     "metadata": {},
     "output_type": "execute_result"
    }
   ],
   "source": [
    "model.fit(xtrain,ytrain)"
   ]
  },
  {
   "cell_type": "code",
   "execution_count": 13,
   "metadata": {},
   "outputs": [],
   "source": [
    "pred=model.predict(xtest)\n",
    "predpro = model.predict_proba(xtest)[:,1]"
   ]
  },
  {
   "cell_type": "code",
   "execution_count": 14,
   "metadata": {},
   "outputs": [
    {
     "data": {
      "text/plain": [
       "array([1, 0, 1, 1, 1], dtype=int64)"
      ]
     },
     "execution_count": 14,
     "metadata": {},
     "output_type": "execute_result"
    }
   ],
   "source": [
    "pred[:5]"
   ]
  },
  {
   "cell_type": "code",
   "execution_count": 15,
   "metadata": {},
   "outputs": [
    {
     "data": {
      "text/html": [
       "<div>\n",
       "<style scoped>\n",
       "    .dataframe tbody tr th:only-of-type {\n",
       "        vertical-align: middle;\n",
       "    }\n",
       "\n",
       "    .dataframe tbody tr th {\n",
       "        vertical-align: top;\n",
       "    }\n",
       "\n",
       "    .dataframe thead th {\n",
       "        text-align: right;\n",
       "    }\n",
       "</style>\n",
       "<table border=\"1\" class=\"dataframe\">\n",
       "  <thead>\n",
       "    <tr style=\"text-align: right;\">\n",
       "      <th></th>\n",
       "      <th>CHURN</th>\n",
       "    </tr>\n",
       "  </thead>\n",
       "  <tbody>\n",
       "    <tr>\n",
       "      <th>119737</th>\n",
       "      <td>1</td>\n",
       "    </tr>\n",
       "    <tr>\n",
       "      <th>72272</th>\n",
       "      <td>0</td>\n",
       "    </tr>\n",
       "    <tr>\n",
       "      <th>158154</th>\n",
       "      <td>1</td>\n",
       "    </tr>\n",
       "    <tr>\n",
       "      <th>65426</th>\n",
       "      <td>0</td>\n",
       "    </tr>\n",
       "    <tr>\n",
       "      <th>30074</th>\n",
       "      <td>0</td>\n",
       "    </tr>\n",
       "  </tbody>\n",
       "</table>\n",
       "</div>"
      ],
      "text/plain": [
       "        CHURN\n",
       "119737      1\n",
       "72272       0\n",
       "158154      1\n",
       "65426       0\n",
       "30074       0"
      ]
     },
     "execution_count": 15,
     "metadata": {},
     "output_type": "execute_result"
    }
   ],
   "source": [
    "ytest[:5]"
   ]
  },
  {
   "cell_type": "code",
   "execution_count": 16,
   "metadata": {},
   "outputs": [],
   "source": [
    "evaluation=xtest.copy()"
   ]
  },
  {
   "cell_type": "code",
   "execution_count": 17,
   "metadata": {},
   "outputs": [
    {
     "data": {
      "text/html": [
       "<div>\n",
       "<style scoped>\n",
       "    .dataframe tbody tr th:only-of-type {\n",
       "        vertical-align: middle;\n",
       "    }\n",
       "\n",
       "    .dataframe tbody tr th {\n",
       "        vertical-align: top;\n",
       "    }\n",
       "\n",
       "    .dataframe thead th {\n",
       "        text-align: right;\n",
       "    }\n",
       "</style>\n",
       "<table border=\"1\" class=\"dataframe\">\n",
       "  <thead>\n",
       "    <tr style=\"text-align: right;\">\n",
       "      <th></th>\n",
       "      <th>HISTORIC_VISITS</th>\n",
       "      <th>HISTORIC_SALES</th>\n",
       "      <th>STD_SALESAMOUNT</th>\n",
       "      <th>VARIATION_SALESAMOUNT</th>\n",
       "      <th>MAX_SALESAMOUNT</th>\n",
       "      <th>MIN_SALESAMOUNT</th>\n",
       "      <th>W1_HISTORIC_VISITS</th>\n",
       "      <th>W2_HISTORIC_VISITS</th>\n",
       "      <th>W3_HISTORIC_VISITS</th>\n",
       "      <th>W4_HISTORIC_VISITS</th>\n",
       "      <th>...</th>\n",
       "      <th>W3_MIN_SALESAMOUNT</th>\n",
       "      <th>W4_MIN_SALESAMOUNT</th>\n",
       "      <th>W5_MIN_SALESAMOUNT</th>\n",
       "      <th>W1_MAX_SALESAMOUNT</th>\n",
       "      <th>W2_MAX_SALESAMOUNT</th>\n",
       "      <th>W3_MAX_SALESAMOUNT</th>\n",
       "      <th>W4_MAX_SALESAMOUNT</th>\n",
       "      <th>W5_MAX_SALESAMOUNT</th>\n",
       "      <th>FIRST_VISIT_DAY</th>\n",
       "      <th>LAST_VISIT_DAY</th>\n",
       "    </tr>\n",
       "  </thead>\n",
       "  <tbody>\n",
       "    <tr>\n",
       "      <th>119737</th>\n",
       "      <td>2.0</td>\n",
       "      <td>5.552184</td>\n",
       "      <td>4.119498</td>\n",
       "      <td>8.206496</td>\n",
       "      <td>5.148657</td>\n",
       "      <td>4.461300</td>\n",
       "      <td>0.0</td>\n",
       "      <td>0.0</td>\n",
       "      <td>0.0</td>\n",
       "      <td>0.0</td>\n",
       "      <td>...</td>\n",
       "      <td>0.000000</td>\n",
       "      <td>0.000000</td>\n",
       "      <td>4.461300</td>\n",
       "      <td>0.0000</td>\n",
       "      <td>0.000000</td>\n",
       "      <td>0.000000</td>\n",
       "      <td>0.000000</td>\n",
       "      <td>5.148657</td>\n",
       "      <td>32</td>\n",
       "      <td>31</td>\n",
       "    </tr>\n",
       "    <tr>\n",
       "      <th>72272</th>\n",
       "      <td>14.0</td>\n",
       "      <td>7.223004</td>\n",
       "      <td>3.468373</td>\n",
       "      <td>6.874452</td>\n",
       "      <td>5.148657</td>\n",
       "      <td>4.461300</td>\n",
       "      <td>2.0</td>\n",
       "      <td>4.0</td>\n",
       "      <td>4.0</td>\n",
       "      <td>3.0</td>\n",
       "      <td>...</td>\n",
       "      <td>4.461300</td>\n",
       "      <td>4.461300</td>\n",
       "      <td>5.148657</td>\n",
       "      <td>4.4613</td>\n",
       "      <td>4.461300</td>\n",
       "      <td>5.148657</td>\n",
       "      <td>4.461300</td>\n",
       "      <td>5.148657</td>\n",
       "      <td>29</td>\n",
       "      <td>2</td>\n",
       "    </tr>\n",
       "    <tr>\n",
       "      <th>158154</th>\n",
       "      <td>1.0</td>\n",
       "      <td>4.461300</td>\n",
       "      <td>0.000000</td>\n",
       "      <td>0.000000</td>\n",
       "      <td>4.461300</td>\n",
       "      <td>4.461300</td>\n",
       "      <td>0.0</td>\n",
       "      <td>1.0</td>\n",
       "      <td>0.0</td>\n",
       "      <td>0.0</td>\n",
       "      <td>...</td>\n",
       "      <td>0.000000</td>\n",
       "      <td>0.000000</td>\n",
       "      <td>0.000000</td>\n",
       "      <td>0.0000</td>\n",
       "      <td>4.461300</td>\n",
       "      <td>0.000000</td>\n",
       "      <td>0.000000</td>\n",
       "      <td>0.000000</td>\n",
       "      <td>12</td>\n",
       "      <td>12</td>\n",
       "    </tr>\n",
       "    <tr>\n",
       "      <th>65426</th>\n",
       "      <td>4.0</td>\n",
       "      <td>6.625764</td>\n",
       "      <td>5.616480</td>\n",
       "      <td>11.225686</td>\n",
       "      <td>6.397263</td>\n",
       "      <td>3.958143</td>\n",
       "      <td>0.0</td>\n",
       "      <td>2.0</td>\n",
       "      <td>1.0</td>\n",
       "      <td>1.0</td>\n",
       "      <td>...</td>\n",
       "      <td>3.958143</td>\n",
       "      <td>3.958143</td>\n",
       "      <td>0.000000</td>\n",
       "      <td>0.0000</td>\n",
       "      <td>6.397263</td>\n",
       "      <td>3.958143</td>\n",
       "      <td>3.958143</td>\n",
       "      <td>0.000000</td>\n",
       "      <td>21</td>\n",
       "      <td>10</td>\n",
       "    </tr>\n",
       "    <tr>\n",
       "      <th>30074</th>\n",
       "      <td>1.0</td>\n",
       "      <td>5.148657</td>\n",
       "      <td>0.000000</td>\n",
       "      <td>0.000000</td>\n",
       "      <td>5.148657</td>\n",
       "      <td>5.148657</td>\n",
       "      <td>0.0</td>\n",
       "      <td>0.0</td>\n",
       "      <td>0.0</td>\n",
       "      <td>1.0</td>\n",
       "      <td>...</td>\n",
       "      <td>0.000000</td>\n",
       "      <td>5.148657</td>\n",
       "      <td>0.000000</td>\n",
       "      <td>0.0000</td>\n",
       "      <td>0.000000</td>\n",
       "      <td>0.000000</td>\n",
       "      <td>5.148657</td>\n",
       "      <td>0.000000</td>\n",
       "      <td>22</td>\n",
       "      <td>22</td>\n",
       "    </tr>\n",
       "  </tbody>\n",
       "</table>\n",
       "<p>5 rows × 38 columns</p>\n",
       "</div>"
      ],
      "text/plain": [
       "        HISTORIC_VISITS  HISTORIC_SALES  STD_SALESAMOUNT  \\\n",
       "119737              2.0        5.552184         4.119498   \n",
       "72272              14.0        7.223004         3.468373   \n",
       "158154              1.0        4.461300         0.000000   \n",
       "65426               4.0        6.625764         5.616480   \n",
       "30074               1.0        5.148657         0.000000   \n",
       "\n",
       "        VARIATION_SALESAMOUNT  MAX_SALESAMOUNT  MIN_SALESAMOUNT  \\\n",
       "119737               8.206496         5.148657         4.461300   \n",
       "72272                6.874452         5.148657         4.461300   \n",
       "158154               0.000000         4.461300         4.461300   \n",
       "65426               11.225686         6.397263         3.958143   \n",
       "30074                0.000000         5.148657         5.148657   \n",
       "\n",
       "        W1_HISTORIC_VISITS  W2_HISTORIC_VISITS  W3_HISTORIC_VISITS  \\\n",
       "119737                 0.0                 0.0                 0.0   \n",
       "72272                  2.0                 4.0                 4.0   \n",
       "158154                 0.0                 1.0                 0.0   \n",
       "65426                  0.0                 2.0                 1.0   \n",
       "30074                  0.0                 0.0                 0.0   \n",
       "\n",
       "        W4_HISTORIC_VISITS  ...  W3_MIN_SALESAMOUNT  W4_MIN_SALESAMOUNT  \\\n",
       "119737                 0.0  ...            0.000000            0.000000   \n",
       "72272                  3.0  ...            4.461300            4.461300   \n",
       "158154                 0.0  ...            0.000000            0.000000   \n",
       "65426                  1.0  ...            3.958143            3.958143   \n",
       "30074                  1.0  ...            0.000000            5.148657   \n",
       "\n",
       "        W5_MIN_SALESAMOUNT  W1_MAX_SALESAMOUNT  W2_MAX_SALESAMOUNT  \\\n",
       "119737            4.461300              0.0000            0.000000   \n",
       "72272             5.148657              4.4613            4.461300   \n",
       "158154            0.000000              0.0000            4.461300   \n",
       "65426             0.000000              0.0000            6.397263   \n",
       "30074             0.000000              0.0000            0.000000   \n",
       "\n",
       "        W3_MAX_SALESAMOUNT  W4_MAX_SALESAMOUNT  W5_MAX_SALESAMOUNT  \\\n",
       "119737            0.000000            0.000000            5.148657   \n",
       "72272             5.148657            4.461300            5.148657   \n",
       "158154            0.000000            0.000000            0.000000   \n",
       "65426             3.958143            3.958143            0.000000   \n",
       "30074             0.000000            5.148657            0.000000   \n",
       "\n",
       "        FIRST_VISIT_DAY  LAST_VISIT_DAY  \n",
       "119737               32              31  \n",
       "72272                29               2  \n",
       "158154               12              12  \n",
       "65426                21              10  \n",
       "30074                22              22  \n",
       "\n",
       "[5 rows x 38 columns]"
      ]
     },
     "execution_count": 17,
     "metadata": {},
     "output_type": "execute_result"
    }
   ],
   "source": [
    "evaluation.head()"
   ]
  },
  {
   "cell_type": "code",
   "execution_count": 18,
   "metadata": {},
   "outputs": [],
   "source": [
    "evaluation['Actual']=ytest"
   ]
  },
  {
   "cell_type": "code",
   "execution_count": 19,
   "metadata": {},
   "outputs": [],
   "source": [
    "evaluation['Predicted']=pred"
   ]
  },
  {
   "cell_type": "code",
   "execution_count": 20,
   "metadata": {},
   "outputs": [
    {
     "data": {
      "text/html": [
       "<div>\n",
       "<style scoped>\n",
       "    .dataframe tbody tr th:only-of-type {\n",
       "        vertical-align: middle;\n",
       "    }\n",
       "\n",
       "    .dataframe tbody tr th {\n",
       "        vertical-align: top;\n",
       "    }\n",
       "\n",
       "    .dataframe thead th {\n",
       "        text-align: right;\n",
       "    }\n",
       "</style>\n",
       "<table border=\"1\" class=\"dataframe\">\n",
       "  <thead>\n",
       "    <tr style=\"text-align: right;\">\n",
       "      <th></th>\n",
       "      <th>HISTORIC_VISITS</th>\n",
       "      <th>HISTORIC_SALES</th>\n",
       "      <th>STD_SALESAMOUNT</th>\n",
       "      <th>VARIATION_SALESAMOUNT</th>\n",
       "      <th>MAX_SALESAMOUNT</th>\n",
       "      <th>MIN_SALESAMOUNT</th>\n",
       "      <th>W1_HISTORIC_VISITS</th>\n",
       "      <th>W2_HISTORIC_VISITS</th>\n",
       "      <th>W3_HISTORIC_VISITS</th>\n",
       "      <th>W4_HISTORIC_VISITS</th>\n",
       "      <th>...</th>\n",
       "      <th>W5_MIN_SALESAMOUNT</th>\n",
       "      <th>W1_MAX_SALESAMOUNT</th>\n",
       "      <th>W2_MAX_SALESAMOUNT</th>\n",
       "      <th>W3_MAX_SALESAMOUNT</th>\n",
       "      <th>W4_MAX_SALESAMOUNT</th>\n",
       "      <th>W5_MAX_SALESAMOUNT</th>\n",
       "      <th>FIRST_VISIT_DAY</th>\n",
       "      <th>LAST_VISIT_DAY</th>\n",
       "      <th>Actual</th>\n",
       "      <th>Predicted</th>\n",
       "    </tr>\n",
       "  </thead>\n",
       "  <tbody>\n",
       "    <tr>\n",
       "      <th>119737</th>\n",
       "      <td>2.0</td>\n",
       "      <td>5.552184</td>\n",
       "      <td>4.119498</td>\n",
       "      <td>8.206496</td>\n",
       "      <td>5.148657</td>\n",
       "      <td>4.461300</td>\n",
       "      <td>0.0</td>\n",
       "      <td>0.0</td>\n",
       "      <td>0.0</td>\n",
       "      <td>0.0</td>\n",
       "      <td>...</td>\n",
       "      <td>4.461300</td>\n",
       "      <td>0.000000</td>\n",
       "      <td>0.000000</td>\n",
       "      <td>0.000000</td>\n",
       "      <td>0.000000</td>\n",
       "      <td>5.148657</td>\n",
       "      <td>32</td>\n",
       "      <td>31</td>\n",
       "      <td>1</td>\n",
       "      <td>1</td>\n",
       "    </tr>\n",
       "    <tr>\n",
       "      <th>72272</th>\n",
       "      <td>14.0</td>\n",
       "      <td>7.223004</td>\n",
       "      <td>3.468373</td>\n",
       "      <td>6.874452</td>\n",
       "      <td>5.148657</td>\n",
       "      <td>4.461300</td>\n",
       "      <td>2.0</td>\n",
       "      <td>4.0</td>\n",
       "      <td>4.0</td>\n",
       "      <td>3.0</td>\n",
       "      <td>...</td>\n",
       "      <td>5.148657</td>\n",
       "      <td>4.461300</td>\n",
       "      <td>4.461300</td>\n",
       "      <td>5.148657</td>\n",
       "      <td>4.461300</td>\n",
       "      <td>5.148657</td>\n",
       "      <td>29</td>\n",
       "      <td>2</td>\n",
       "      <td>0</td>\n",
       "      <td>0</td>\n",
       "    </tr>\n",
       "    <tr>\n",
       "      <th>158154</th>\n",
       "      <td>1.0</td>\n",
       "      <td>4.461300</td>\n",
       "      <td>0.000000</td>\n",
       "      <td>0.000000</td>\n",
       "      <td>4.461300</td>\n",
       "      <td>4.461300</td>\n",
       "      <td>0.0</td>\n",
       "      <td>1.0</td>\n",
       "      <td>0.0</td>\n",
       "      <td>0.0</td>\n",
       "      <td>...</td>\n",
       "      <td>0.000000</td>\n",
       "      <td>0.000000</td>\n",
       "      <td>4.461300</td>\n",
       "      <td>0.000000</td>\n",
       "      <td>0.000000</td>\n",
       "      <td>0.000000</td>\n",
       "      <td>12</td>\n",
       "      <td>12</td>\n",
       "      <td>1</td>\n",
       "      <td>1</td>\n",
       "    </tr>\n",
       "    <tr>\n",
       "      <th>65426</th>\n",
       "      <td>4.0</td>\n",
       "      <td>6.625764</td>\n",
       "      <td>5.616480</td>\n",
       "      <td>11.225686</td>\n",
       "      <td>6.397263</td>\n",
       "      <td>3.958143</td>\n",
       "      <td>0.0</td>\n",
       "      <td>2.0</td>\n",
       "      <td>1.0</td>\n",
       "      <td>1.0</td>\n",
       "      <td>...</td>\n",
       "      <td>0.000000</td>\n",
       "      <td>0.000000</td>\n",
       "      <td>6.397263</td>\n",
       "      <td>3.958143</td>\n",
       "      <td>3.958143</td>\n",
       "      <td>0.000000</td>\n",
       "      <td>21</td>\n",
       "      <td>10</td>\n",
       "      <td>0</td>\n",
       "      <td>1</td>\n",
       "    </tr>\n",
       "    <tr>\n",
       "      <th>30074</th>\n",
       "      <td>1.0</td>\n",
       "      <td>5.148657</td>\n",
       "      <td>0.000000</td>\n",
       "      <td>0.000000</td>\n",
       "      <td>5.148657</td>\n",
       "      <td>5.148657</td>\n",
       "      <td>0.0</td>\n",
       "      <td>0.0</td>\n",
       "      <td>0.0</td>\n",
       "      <td>1.0</td>\n",
       "      <td>...</td>\n",
       "      <td>0.000000</td>\n",
       "      <td>0.000000</td>\n",
       "      <td>0.000000</td>\n",
       "      <td>0.000000</td>\n",
       "      <td>5.148657</td>\n",
       "      <td>0.000000</td>\n",
       "      <td>22</td>\n",
       "      <td>22</td>\n",
       "      <td>0</td>\n",
       "      <td>1</td>\n",
       "    </tr>\n",
       "    <tr>\n",
       "      <th>23677</th>\n",
       "      <td>13.0</td>\n",
       "      <td>7.669028</td>\n",
       "      <td>3.208469</td>\n",
       "      <td>6.336194</td>\n",
       "      <td>5.148657</td>\n",
       "      <td>4.461300</td>\n",
       "      <td>3.0</td>\n",
       "      <td>3.0</td>\n",
       "      <td>3.0</td>\n",
       "      <td>2.0</td>\n",
       "      <td>...</td>\n",
       "      <td>5.148657</td>\n",
       "      <td>5.148657</td>\n",
       "      <td>5.148657</td>\n",
       "      <td>5.148657</td>\n",
       "      <td>5.148657</td>\n",
       "      <td>5.148657</td>\n",
       "      <td>32</td>\n",
       "      <td>1</td>\n",
       "      <td>0</td>\n",
       "      <td>0</td>\n",
       "    </tr>\n",
       "    <tr>\n",
       "      <th>134858</th>\n",
       "      <td>4.0</td>\n",
       "      <td>5.933941</td>\n",
       "      <td>3.786106</td>\n",
       "      <td>7.526860</td>\n",
       "      <td>5.043941</td>\n",
       "      <td>3.958143</td>\n",
       "      <td>1.0</td>\n",
       "      <td>0.0</td>\n",
       "      <td>1.0</td>\n",
       "      <td>1.0</td>\n",
       "      <td>...</td>\n",
       "      <td>4.461300</td>\n",
       "      <td>4.461300</td>\n",
       "      <td>0.000000</td>\n",
       "      <td>5.043941</td>\n",
       "      <td>3.958143</td>\n",
       "      <td>4.461300</td>\n",
       "      <td>28</td>\n",
       "      <td>5</td>\n",
       "      <td>0</td>\n",
       "      <td>0</td>\n",
       "    </tr>\n",
       "    <tr>\n",
       "      <th>176418</th>\n",
       "      <td>3.0</td>\n",
       "      <td>5.483468</td>\n",
       "      <td>2.387316</td>\n",
       "      <td>4.592066</td>\n",
       "      <td>4.461300</td>\n",
       "      <td>4.241039</td>\n",
       "      <td>2.0</td>\n",
       "      <td>0.0</td>\n",
       "      <td>0.0</td>\n",
       "      <td>0.0</td>\n",
       "      <td>...</td>\n",
       "      <td>4.241039</td>\n",
       "      <td>4.461300</td>\n",
       "      <td>0.000000</td>\n",
       "      <td>0.000000</td>\n",
       "      <td>0.000000</td>\n",
       "      <td>4.241039</td>\n",
       "      <td>30</td>\n",
       "      <td>1</td>\n",
       "      <td>1</td>\n",
       "      <td>1</td>\n",
       "    </tr>\n",
       "    <tr>\n",
       "      <th>132467</th>\n",
       "      <td>2.0</td>\n",
       "      <td>4.794467</td>\n",
       "      <td>2.573045</td>\n",
       "      <td>4.994148</td>\n",
       "      <td>4.241039</td>\n",
       "      <td>3.958143</td>\n",
       "      <td>0.0</td>\n",
       "      <td>1.0</td>\n",
       "      <td>1.0</td>\n",
       "      <td>0.0</td>\n",
       "      <td>...</td>\n",
       "      <td>0.000000</td>\n",
       "      <td>0.000000</td>\n",
       "      <td>3.958143</td>\n",
       "      <td>4.241039</td>\n",
       "      <td>0.000000</td>\n",
       "      <td>0.000000</td>\n",
       "      <td>15</td>\n",
       "      <td>10</td>\n",
       "      <td>1</td>\n",
       "      <td>1</td>\n",
       "    </tr>\n",
       "    <tr>\n",
       "      <th>4082</th>\n",
       "      <td>14.0</td>\n",
       "      <td>7.676993</td>\n",
       "      <td>4.117982</td>\n",
       "      <td>8.203415</td>\n",
       "      <td>5.676891</td>\n",
       "      <td>3.958143</td>\n",
       "      <td>2.0</td>\n",
       "      <td>4.0</td>\n",
       "      <td>4.0</td>\n",
       "      <td>3.0</td>\n",
       "      <td>...</td>\n",
       "      <td>5.148657</td>\n",
       "      <td>5.676891</td>\n",
       "      <td>5.148657</td>\n",
       "      <td>5.148657</td>\n",
       "      <td>5.148657</td>\n",
       "      <td>5.148657</td>\n",
       "      <td>31</td>\n",
       "      <td>1</td>\n",
       "      <td>0</td>\n",
       "      <td>0</td>\n",
       "    </tr>\n",
       "  </tbody>\n",
       "</table>\n",
       "<p>10 rows × 40 columns</p>\n",
       "</div>"
      ],
      "text/plain": [
       "        HISTORIC_VISITS  HISTORIC_SALES  STD_SALESAMOUNT  \\\n",
       "119737              2.0        5.552184         4.119498   \n",
       "72272              14.0        7.223004         3.468373   \n",
       "158154              1.0        4.461300         0.000000   \n",
       "65426               4.0        6.625764         5.616480   \n",
       "30074               1.0        5.148657         0.000000   \n",
       "23677              13.0        7.669028         3.208469   \n",
       "134858              4.0        5.933941         3.786106   \n",
       "176418              3.0        5.483468         2.387316   \n",
       "132467              2.0        4.794467         2.573045   \n",
       "4082               14.0        7.676993         4.117982   \n",
       "\n",
       "        VARIATION_SALESAMOUNT  MAX_SALESAMOUNT  MIN_SALESAMOUNT  \\\n",
       "119737               8.206496         5.148657         4.461300   \n",
       "72272                6.874452         5.148657         4.461300   \n",
       "158154               0.000000         4.461300         4.461300   \n",
       "65426               11.225686         6.397263         3.958143   \n",
       "30074                0.000000         5.148657         5.148657   \n",
       "23677                6.336194         5.148657         4.461300   \n",
       "134858               7.526860         5.043941         3.958143   \n",
       "176418               4.592066         4.461300         4.241039   \n",
       "132467               4.994148         4.241039         3.958143   \n",
       "4082                 8.203415         5.676891         3.958143   \n",
       "\n",
       "        W1_HISTORIC_VISITS  W2_HISTORIC_VISITS  W3_HISTORIC_VISITS  \\\n",
       "119737                 0.0                 0.0                 0.0   \n",
       "72272                  2.0                 4.0                 4.0   \n",
       "158154                 0.0                 1.0                 0.0   \n",
       "65426                  0.0                 2.0                 1.0   \n",
       "30074                  0.0                 0.0                 0.0   \n",
       "23677                  3.0                 3.0                 3.0   \n",
       "134858                 1.0                 0.0                 1.0   \n",
       "176418                 2.0                 0.0                 0.0   \n",
       "132467                 0.0                 1.0                 1.0   \n",
       "4082                   2.0                 4.0                 4.0   \n",
       "\n",
       "        W4_HISTORIC_VISITS  ...  W5_MIN_SALESAMOUNT  W1_MAX_SALESAMOUNT  \\\n",
       "119737                 0.0  ...            4.461300            0.000000   \n",
       "72272                  3.0  ...            5.148657            4.461300   \n",
       "158154                 0.0  ...            0.000000            0.000000   \n",
       "65426                  1.0  ...            0.000000            0.000000   \n",
       "30074                  1.0  ...            0.000000            0.000000   \n",
       "23677                  2.0  ...            5.148657            5.148657   \n",
       "134858                 1.0  ...            4.461300            4.461300   \n",
       "176418                 0.0  ...            4.241039            4.461300   \n",
       "132467                 0.0  ...            0.000000            0.000000   \n",
       "4082                   3.0  ...            5.148657            5.676891   \n",
       "\n",
       "        W2_MAX_SALESAMOUNT  W3_MAX_SALESAMOUNT  W4_MAX_SALESAMOUNT  \\\n",
       "119737            0.000000            0.000000            0.000000   \n",
       "72272             4.461300            5.148657            4.461300   \n",
       "158154            4.461300            0.000000            0.000000   \n",
       "65426             6.397263            3.958143            3.958143   \n",
       "30074             0.000000            0.000000            5.148657   \n",
       "23677             5.148657            5.148657            5.148657   \n",
       "134858            0.000000            5.043941            3.958143   \n",
       "176418            0.000000            0.000000            0.000000   \n",
       "132467            3.958143            4.241039            0.000000   \n",
       "4082              5.148657            5.148657            5.148657   \n",
       "\n",
       "        W5_MAX_SALESAMOUNT  FIRST_VISIT_DAY  LAST_VISIT_DAY  Actual  Predicted  \n",
       "119737            5.148657               32              31       1          1  \n",
       "72272             5.148657               29               2       0          0  \n",
       "158154            0.000000               12              12       1          1  \n",
       "65426             0.000000               21              10       0          1  \n",
       "30074             0.000000               22              22       0          1  \n",
       "23677             5.148657               32               1       0          0  \n",
       "134858            4.461300               28               5       0          0  \n",
       "176418            4.241039               30               1       1          1  \n",
       "132467            0.000000               15              10       1          1  \n",
       "4082              5.148657               31               1       0          0  \n",
       "\n",
       "[10 rows x 40 columns]"
      ]
     },
     "execution_count": 20,
     "metadata": {},
     "output_type": "execute_result"
    }
   ],
   "source": [
    "evaluation.head(10)"
   ]
  },
  {
   "cell_type": "code",
   "execution_count": 21,
   "metadata": {},
   "outputs": [
    {
     "data": {
      "text/plain": [
       "(44067, 40)"
      ]
     },
     "execution_count": 21,
     "metadata": {},
     "output_type": "execute_result"
    }
   ],
   "source": [
    "evaluation[evaluation['Actual']==evaluation['Predicted']].shape"
   ]
  },
  {
   "cell_type": "code",
   "execution_count": 22,
   "metadata": {},
   "outputs": [
    {
     "data": {
      "text/plain": [
       "(60000, 40)"
      ]
     },
     "execution_count": 22,
     "metadata": {},
     "output_type": "execute_result"
    }
   ],
   "source": [
    "evaluation.shape"
   ]
  },
  {
   "cell_type": "code",
   "execution_count": 23,
   "metadata": {},
   "outputs": [
    {
     "data": {
      "text/plain": [
       "0.73735"
      ]
     },
     "execution_count": 23,
     "metadata": {},
     "output_type": "execute_result"
    }
   ],
   "source": [
    "44241/60000"
   ]
  },
  {
   "cell_type": "code",
   "execution_count": 24,
   "metadata": {},
   "outputs": [
    {
     "name": "stdout",
     "output_type": "stream",
     "text": [
      "Test Accuracy: 0.73445\n"
     ]
    }
   ],
   "source": [
    "print('Test Accuracy:',accuracy_score(ytest,pred))"
   ]
  },
  {
   "cell_type": "code",
   "execution_count": 25,
   "metadata": {},
   "outputs": [],
   "source": [
    "pred_train=model.predict(xtrain)"
   ]
  },
  {
   "cell_type": "code",
   "execution_count": 26,
   "metadata": {},
   "outputs": [
    {
     "name": "stdout",
     "output_type": "stream",
     "text": [
      "Train Accuracy: 0.7326928571428571\n"
     ]
    }
   ],
   "source": [
    "print('Train Accuracy:',accuracy_score(ytrain,pred_train))"
   ]
  },
  {
   "cell_type": "markdown",
   "metadata": {},
   "source": [
    "# Confusion Matrix"
   ]
  },
  {
   "cell_type": "code",
   "execution_count": 27,
   "metadata": {},
   "outputs": [
    {
     "data": {
      "text/plain": [
       "array([[24063,  8929],\n",
       "       [ 7004, 20004]], dtype=int64)"
      ]
     },
     "execution_count": 27,
     "metadata": {},
     "output_type": "execute_result"
    }
   ],
   "source": [
    "confusion_matrix(ytest, pred)"
   ]
  },
  {
   "cell_type": "code",
   "execution_count": 28,
   "metadata": {},
   "outputs": [
    {
     "data": {
      "text/plain": [
       "array([24063,  8929,  7004, 20004], dtype=int64)"
      ]
     },
     "execution_count": 28,
     "metadata": {},
     "output_type": "execute_result"
    }
   ],
   "source": [
    "confusion_matrix(ytest, pred).ravel()"
   ]
  },
  {
   "cell_type": "code",
   "execution_count": 29,
   "metadata": {},
   "outputs": [
    {
     "data": {
      "text/html": [
       "<div>\n",
       "<style scoped>\n",
       "    .dataframe tbody tr th:only-of-type {\n",
       "        vertical-align: middle;\n",
       "    }\n",
       "\n",
       "    .dataframe tbody tr th {\n",
       "        vertical-align: top;\n",
       "    }\n",
       "\n",
       "    .dataframe thead th {\n",
       "        text-align: right;\n",
       "    }\n",
       "</style>\n",
       "<table border=\"1\" class=\"dataframe\">\n",
       "  <thead>\n",
       "    <tr style=\"text-align: right;\">\n",
       "      <th></th>\n",
       "      <th>pred_Not Churn</th>\n",
       "      <th>pred_Churn</th>\n",
       "    </tr>\n",
       "  </thead>\n",
       "  <tbody>\n",
       "    <tr>\n",
       "      <th>Not Churn</th>\n",
       "      <td>24063</td>\n",
       "      <td>8929</td>\n",
       "    </tr>\n",
       "    <tr>\n",
       "      <th>Churn</th>\n",
       "      <td>7004</td>\n",
       "      <td>20004</td>\n",
       "    </tr>\n",
       "  </tbody>\n",
       "</table>\n",
       "</div>"
      ],
      "text/plain": [
       "           pred_Not Churn  pred_Churn\n",
       "Not Churn           24063        8929\n",
       "Churn                7004       20004"
      ]
     },
     "execution_count": 29,
     "metadata": {},
     "output_type": "execute_result"
    }
   ],
   "source": [
    "tn, fp, fn, tp = confusion_matrix(ytest, pred).ravel()\n",
    "conf_matrix=pd.DataFrame({\"pred_Not Churn\":[tn,fn],\"pred_Churn\":[fp,tp]},index=[\"Not Churn\",\"Churn\"])\n",
    "conf_matrix"
   ]
  },
  {
   "cell_type": "code",
   "execution_count": 30,
   "metadata": {},
   "outputs": [
    {
     "name": "stdout",
     "output_type": "stream",
     "text": [
      "Accuracy: 0.73445\n"
     ]
    }
   ],
   "source": [
    "accuracy = (tp + tn) / (tp + fp + tn + fn)\n",
    "print(\"Accuracy: {}\".format(accuracy))"
   ]
  },
  {
   "cell_type": "code",
   "execution_count": 31,
   "metadata": {},
   "outputs": [
    {
     "name": "stdout",
     "output_type": "stream",
     "text": [
      "Accuracy by built-in function: 0.73445\n"
     ]
    }
   ],
   "source": [
    "accuracy_lr = accuracy_score(ytest,pred)\n",
    "print(\"Accuracy by built-in function: {}\".format(accuracy_lr))"
   ]
  },
  {
   "cell_type": "code",
   "execution_count": 32,
   "metadata": {},
   "outputs": [
    {
     "name": "stdout",
     "output_type": "stream",
     "text": [
      "Precision for 1: 0.6913904538070715\n",
      "Precision for 0: 0.7745517751955451\n"
     ]
    }
   ],
   "source": [
    "precision_1 = tp / (tp + fp)\n",
    "print(\"Precision for 1: {}\".format(precision_1))\n",
    "precision_0 = tn / (tn + fn)\n",
    "print(\"Precision for 0: {}\".format(precision_0))"
   ]
  },
  {
   "cell_type": "code",
   "execution_count": 33,
   "metadata": {},
   "outputs": [
    {
     "name": "stdout",
     "output_type": "stream",
     "text": [
      "Precision by built-in function: 0.6913904538070715\n"
     ]
    }
   ],
   "source": [
    "precision_lr = precision_score(ytest,pred)\n",
    "print(\"Precision by built-in function: {}\".format(precision_lr))"
   ]
  },
  {
   "cell_type": "code",
   "execution_count": 34,
   "metadata": {},
   "outputs": [
    {
     "name": "stdout",
     "output_type": "stream",
     "text": [
      "Recall for 1: 0.7406694312796208\n",
      "Recall for 0: 0.7293586323957323\n"
     ]
    }
   ],
   "source": [
    "recall_1 = tp / (tp + fn)\n",
    "print(\"Recall for 1: {}\".format(recall_1))\n",
    "recall_0 = tn / (tn + fp)\n",
    "print(\"Recall for 0: {}\".format(recall_0))"
   ]
  },
  {
   "cell_type": "code",
   "execution_count": 35,
   "metadata": {},
   "outputs": [
    {
     "name": "stdout",
     "output_type": "stream",
     "text": [
      "Recall by built-in function: 0.7406694312796208\n"
     ]
    }
   ],
   "source": [
    "recall_lr = recall_score(ytest,pred)\n",
    "print(\"Recall by built-in function: {}\".format(recall_lr))"
   ]
  },
  {
   "cell_type": "code",
   "execution_count": 36,
   "metadata": {},
   "outputs": [
    {
     "name": "stdout",
     "output_type": "stream",
     "text": [
      "F1 Score for 1: 0.7151820668204001\n",
      "F1 Score for 0: 0.7512761672832857\n"
     ]
    }
   ],
   "source": [
    "f1_1 = (2 * precision_1 * recall_1) / (precision_1 + recall_1)\n",
    "print(\"F1 Score for 1: {}\".format(f1_1))\n",
    "f1_0 = (2 * precision_0 * recall_0) / (precision_0 + recall_0)\n",
    "print(\"F1 Score for 0: {}\".format(f1_0))"
   ]
  },
  {
   "cell_type": "code",
   "execution_count": 37,
   "metadata": {},
   "outputs": [
    {
     "name": "stdout",
     "output_type": "stream",
     "text": [
      "F1 Score by built-in function: 0.7151820668204001\n"
     ]
    }
   ],
   "source": [
    "f1_lr=f1_score(ytest,pred)\n",
    "print(\"F1 Score by built-in function: {}\".format(f1_lr))"
   ]
  },
  {
   "cell_type": "code",
   "execution_count": 38,
   "metadata": {},
   "outputs": [
    {
     "name": "stdout",
     "output_type": "stream",
     "text": [
      "              precision    recall  f1-score   support\n",
      "\n",
      "           0       0.77      0.73      0.75     32992\n",
      "           1       0.69      0.74      0.72     27008\n",
      "\n",
      "    accuracy                           0.73     60000\n",
      "   macro avg       0.73      0.74      0.73     60000\n",
      "weighted avg       0.74      0.73      0.74     60000\n",
      "\n"
     ]
    }
   ],
   "source": [
    "print(classification_report(ytest,pred))"
   ]
  },
  {
   "cell_type": "code",
   "execution_count": 39,
   "metadata": {},
   "outputs": [],
   "source": [
    "tpr = recall_lr\n",
    "fpr = fp / (fp + tn)"
   ]
  },
  {
   "cell_type": "code",
   "execution_count": 40,
   "metadata": {},
   "outputs": [
    {
     "data": {
      "text/plain": [
       "(0.7406694312796208, 0.2706413676042677)"
      ]
     },
     "execution_count": 40,
     "metadata": {},
     "output_type": "execute_result"
    }
   ],
   "source": [
    "tpr, fpr"
   ]
  },
  {
   "cell_type": "code",
   "execution_count": 41,
   "metadata": {},
   "outputs": [
    {
     "data": {
      "text/plain": [
       "(0.7406694312796208, 0.2706413676042677)"
      ]
     },
     "execution_count": 41,
     "metadata": {},
     "output_type": "execute_result"
    }
   ],
   "source": [
    "fpr = 1 - recall_0\n",
    "tpr, fpr"
   ]
  },
  {
   "cell_type": "code",
   "execution_count": 42,
   "metadata": {},
   "outputs": [],
   "source": [
    "def plot_roc_curve(fpr, tpr, label=None):\n",
    "    plt.figure(figsize=(8,6))\n",
    "    plt.title('ROC Curve')\n",
    "    plt.plot(fpr, tpr, linewidth=2, label=label)\n",
    "    plt.plot([0, 1], [0, 1], 'k--')\n",
    "    plt.axis([-0.005, 1, 0, 1.005])\n",
    "    plt.xticks(np.arange(0,1, 0.05), rotation=90)\n",
    "    plt.xlabel(\"False Positive Rate\")\n",
    "    plt.ylabel(\"True Positive Rate\")\n",
    "    plt.legend(loc='best')"
   ]
  },
  {
   "cell_type": "code",
   "execution_count": 43,
   "metadata": {},
   "outputs": [],
   "source": [
    "fpr,tpr,threshold=roc_curve(ytest,predpro)"
   ]
  },
  {
   "cell_type": "code",
   "execution_count": 44,
   "metadata": {},
   "outputs": [
    {
     "data": {
      "text/plain": [
       "0.8028630078101657"
      ]
     },
     "execution_count": 44,
     "metadata": {},
     "output_type": "execute_result"
    }
   ],
   "source": [
    "auc_lr=roc_auc_score(ytest,predpro)\n",
    "auc_lr"
   ]
  },
  {
   "cell_type": "code",
   "execution_count": 45,
   "metadata": {},
   "outputs": [
    {
     "data": {
      "image/png": "[encoded data removed]",
      "text/plain": [
       "<Figure size 576x432 with 1 Axes>"
      ]
     },
     "metadata": {
      "needs_background": "light"
     },
     "output_type": "display_data"
    }
   ],
   "source": [
    "sns.set_context('poster')\n",
    "plot_roc_curve(fpr,tpr,label='AUC = %0.3f'% auc_lr)"
   ]
  },
  {
   "cell_type": "markdown",
   "metadata": {},
   "source": [
    "# Decision tree"
   ]
  },
  {
   "cell_type": "code",
   "execution_count": 46,
   "metadata": {},
   "outputs": [],
   "source": [
    "np.random.seed(25)\n",
    "import random\n",
    "random.seed(25)"
   ]
  },
  {
   "cell_type": "code",
   "execution_count": 47,
   "metadata": {},
   "outputs": [],
   "source": [
    "df_OneHot=pd.get_dummies(df)"
   ]
  },
  {
   "cell_type": "code",
   "execution_count": 48,
   "metadata": {},
   "outputs": [
    {
     "data": {
      "text/html": [
       "<div>\n",
       "<style scoped>\n",
       "    .dataframe tbody tr th:only-of-type {\n",
       "        vertical-align: middle;\n",
       "    }\n",
       "\n",
       "    .dataframe tbody tr th {\n",
       "        vertical-align: top;\n",
       "    }\n",
       "\n",
       "    .dataframe thead th {\n",
       "        text-align: right;\n",
       "    }\n",
       "</style>\n",
       "<table border=\"1\" class=\"dataframe\">\n",
       "  <thead>\n",
       "    <tr style=\"text-align: right;\">\n",
       "      <th></th>\n",
       "      <th>CUSTOMER_ID</th>\n",
       "      <th>HISTORIC_VISITS</th>\n",
       "      <th>HISTORIC_SALES</th>\n",
       "      <th>STD_SALESAMOUNT</th>\n",
       "      <th>VARIATION_SALESAMOUNT</th>\n",
       "      <th>MAX_SALESAMOUNT</th>\n",
       "      <th>MIN_SALESAMOUNT</th>\n",
       "      <th>W1_HISTORIC_VISITS</th>\n",
       "      <th>W2_HISTORIC_VISITS</th>\n",
       "      <th>W3_HISTORIC_VISITS</th>\n",
       "      <th>...</th>\n",
       "      <th>W4_MIN_SALESAMOUNT</th>\n",
       "      <th>W5_MIN_SALESAMOUNT</th>\n",
       "      <th>W1_MAX_SALESAMOUNT</th>\n",
       "      <th>W2_MAX_SALESAMOUNT</th>\n",
       "      <th>W3_MAX_SALESAMOUNT</th>\n",
       "      <th>W4_MAX_SALESAMOUNT</th>\n",
       "      <th>W5_MAX_SALESAMOUNT</th>\n",
       "      <th>CHURN</th>\n",
       "      <th>FIRST_VISIT_DAY</th>\n",
       "      <th>LAST_VISIT_DAY</th>\n",
       "    </tr>\n",
       "  </thead>\n",
       "  <tbody>\n",
       "    <tr>\n",
       "      <th>0</th>\n",
       "      <td>488</td>\n",
       "      <td>1.0</td>\n",
       "      <td>5.148657</td>\n",
       "      <td>0.000000</td>\n",
       "      <td>0.00000</td>\n",
       "      <td>5.148657</td>\n",
       "      <td>5.148657</td>\n",
       "      <td>0.0</td>\n",
       "      <td>0.0</td>\n",
       "      <td>1.0</td>\n",
       "      <td>...</td>\n",
       "      <td>0.000000</td>\n",
       "      <td>0.000000</td>\n",
       "      <td>0.000000</td>\n",
       "      <td>0.000000</td>\n",
       "      <td>5.148657</td>\n",
       "      <td>0.000000</td>\n",
       "      <td>0.000000</td>\n",
       "      <td>1</td>\n",
       "      <td>16</td>\n",
       "      <td>16</td>\n",
       "    </tr>\n",
       "    <tr>\n",
       "      <th>1</th>\n",
       "      <td>5194</td>\n",
       "      <td>1.0</td>\n",
       "      <td>6.397263</td>\n",
       "      <td>0.000000</td>\n",
       "      <td>0.00000</td>\n",
       "      <td>6.397263</td>\n",
       "      <td>6.397263</td>\n",
       "      <td>0.0</td>\n",
       "      <td>1.0</td>\n",
       "      <td>0.0</td>\n",
       "      <td>...</td>\n",
       "      <td>0.000000</td>\n",
       "      <td>0.000000</td>\n",
       "      <td>0.000000</td>\n",
       "      <td>6.397263</td>\n",
       "      <td>0.000000</td>\n",
       "      <td>0.000000</td>\n",
       "      <td>0.000000</td>\n",
       "      <td>1</td>\n",
       "      <td>10</td>\n",
       "      <td>10</td>\n",
       "    </tr>\n",
       "    <tr>\n",
       "      <th>2</th>\n",
       "      <td>5398</td>\n",
       "      <td>2.0</td>\n",
       "      <td>4.641695</td>\n",
       "      <td>0.000000</td>\n",
       "      <td>0.00000</td>\n",
       "      <td>3.958143</td>\n",
       "      <td>3.958143</td>\n",
       "      <td>0.0</td>\n",
       "      <td>1.0</td>\n",
       "      <td>0.0</td>\n",
       "      <td>...</td>\n",
       "      <td>3.958143</td>\n",
       "      <td>0.000000</td>\n",
       "      <td>0.000000</td>\n",
       "      <td>3.958143</td>\n",
       "      <td>0.000000</td>\n",
       "      <td>3.958143</td>\n",
       "      <td>0.000000</td>\n",
       "      <td>0</td>\n",
       "      <td>26</td>\n",
       "      <td>12</td>\n",
       "    </tr>\n",
       "    <tr>\n",
       "      <th>3</th>\n",
       "      <td>6930</td>\n",
       "      <td>6.0</td>\n",
       "      <td>6.397263</td>\n",
       "      <td>3.582019</td>\n",
       "      <td>7.10843</td>\n",
       "      <td>5.148657</td>\n",
       "      <td>4.461300</td>\n",
       "      <td>1.0</td>\n",
       "      <td>2.0</td>\n",
       "      <td>1.0</td>\n",
       "      <td>...</td>\n",
       "      <td>4.461300</td>\n",
       "      <td>0.000000</td>\n",
       "      <td>4.461300</td>\n",
       "      <td>5.148657</td>\n",
       "      <td>4.461300</td>\n",
       "      <td>4.461300</td>\n",
       "      <td>0.000000</td>\n",
       "      <td>0</td>\n",
       "      <td>24</td>\n",
       "      <td>4</td>\n",
       "    </tr>\n",
       "    <tr>\n",
       "      <th>4</th>\n",
       "      <td>7260</td>\n",
       "      <td>14.0</td>\n",
       "      <td>7.585687</td>\n",
       "      <td>3.988061</td>\n",
       "      <td>7.93906</td>\n",
       "      <td>5.552184</td>\n",
       "      <td>4.241039</td>\n",
       "      <td>4.0</td>\n",
       "      <td>3.0</td>\n",
       "      <td>4.0</td>\n",
       "      <td>...</td>\n",
       "      <td>4.461300</td>\n",
       "      <td>5.148657</td>\n",
       "      <td>5.148657</td>\n",
       "      <td>5.148657</td>\n",
       "      <td>5.552184</td>\n",
       "      <td>5.148657</td>\n",
       "      <td>5.148657</td>\n",
       "      <td>0</td>\n",
       "      <td>30</td>\n",
       "      <td>0</td>\n",
       "    </tr>\n",
       "  </tbody>\n",
       "</table>\n",
       "<p>5 rows × 40 columns</p>\n",
       "</div>"
      ],
      "text/plain": [
       "   CUSTOMER_ID  HISTORIC_VISITS  HISTORIC_SALES  STD_SALESAMOUNT  \\\n",
       "0          488              1.0        5.148657         0.000000   \n",
       "1         5194              1.0        6.397263         0.000000   \n",
       "2         5398              2.0        4.641695         0.000000   \n",
       "3         6930              6.0        6.397263         3.582019   \n",
       "4         7260             14.0        7.585687         3.988061   \n",
       "\n",
       "   VARIATION_SALESAMOUNT  MAX_SALESAMOUNT  MIN_SALESAMOUNT  \\\n",
       "0                0.00000         5.148657         5.148657   \n",
       "1                0.00000         6.397263         6.397263   \n",
       "2                0.00000         3.958143         3.958143   \n",
       "3                7.10843         5.148657         4.461300   \n",
       "4                7.93906         5.552184         4.241039   \n",
       "\n",
       "   W1_HISTORIC_VISITS  W2_HISTORIC_VISITS  W3_HISTORIC_VISITS  ...  \\\n",
       "0                 0.0                 0.0                 1.0  ...   \n",
       "1                 0.0                 1.0                 0.0  ...   \n",
       "2                 0.0                 1.0                 0.0  ...   \n",
       "3                 1.0                 2.0                 1.0  ...   \n",
       "4                 4.0                 3.0                 4.0  ...   \n",
       "\n",
       "   W4_MIN_SALESAMOUNT  W5_MIN_SALESAMOUNT  W1_MAX_SALESAMOUNT  \\\n",
       "0            0.000000            0.000000            0.000000   \n",
       "1            0.000000            0.000000            0.000000   \n",
       "2            3.958143            0.000000            0.000000   \n",
       "3            4.461300            0.000000            4.461300   \n",
       "4            4.461300            5.148657            5.148657   \n",
       "\n",
       "   W2_MAX_SALESAMOUNT  W3_MAX_SALESAMOUNT  W4_MAX_SALESAMOUNT  \\\n",
       "0            0.000000            5.148657            0.000000   \n",
       "1            6.397263            0.000000            0.000000   \n",
       "2            3.958143            0.000000            3.958143   \n",
       "3            5.148657            4.461300            4.461300   \n",
       "4            5.148657            5.552184            5.148657   \n",
       "\n",
       "   W5_MAX_SALESAMOUNT  CHURN  FIRST_VISIT_DAY  LAST_VISIT_DAY  \n",
       "0            0.000000      1               16              16  \n",
       "1            0.000000      1               10              10  \n",
       "2            0.000000      0               26              12  \n",
       "3            0.000000      0               24               4  \n",
       "4            5.148657      0               30               0  \n",
       "\n",
       "[5 rows x 40 columns]"
      ]
     },
     "execution_count": 48,
     "metadata": {},
     "output_type": "execute_result"
    }
   ],
   "source": [
    "df_OneHot.head()"
   ]
  },
  {
   "cell_type": "code",
   "execution_count": 49,
   "metadata": {},
   "outputs": [],
   "source": [
    "df=df_OneHot.copy()"
   ]
  },
  {
   "cell_type": "code",
   "execution_count": 50,
   "metadata": {},
   "outputs": [],
   "source": [
    "def plot_roc_curve(fpr, tpr, label=None):\n",
    "    plt.figure(figsize=(8,6))\n",
    "    plt.title('ROC Curve')\n",
    "    plt.plot(fpr, tpr, linewidth=2, label=label)\n",
    "    plt.plot([0, 1], [0, 1], 'k--')\n",
    "    plt.axis([-0.005, 1, 0, 1.005])\n",
    "    plt.xticks(np.arange(0,1, 0.05), rotation=90)\n",
    "    plt.xlabel(\"False Positive Rate\")\n",
    "    plt.ylabel(\"True Positive Rate\")\n",
    "    plt.legend(loc='best')"
   ]
  },
  {
   "cell_type": "code",
   "execution_count": 51,
   "metadata": {},
   "outputs": [],
   "source": [
    "X = df.drop(['CHURN','CUSTOMER_ID'], axis=1)\n",
    "Y = df['CHURN']"
   ]
  },
  {
   "cell_type": "code",
   "execution_count": 52,
   "metadata": {},
   "outputs": [
    {
     "name": "stdout",
     "output_type": "stream",
     "text": [
      "(140000, 38) (140000,)\n",
      "(60000, 38) (60000,)\n"
     ]
    }
   ],
   "source": [
    "xtrain, xtest, ytrain, ytest = train_test_split(X, Y, test_size=0.3)\n",
    "print(xtrain.shape, ytrain.shape)\n",
    "print(xtest.shape, ytest.shape)"
   ]
  },
  {
   "cell_type": "code",
   "execution_count": 53,
   "metadata": {},
   "outputs": [],
   "source": [
    "clf_dt = DecisionTreeClassifier(criterion='gini',max_depth=3)"
   ]
  },
  {
   "cell_type": "code",
   "execution_count": 54,
   "metadata": {},
   "outputs": [
    {
     "data": {
      "text/plain": [
       "DecisionTreeClassifier(max_depth=3)"
      ]
     },
     "execution_count": 54,
     "metadata": {},
     "output_type": "execute_result"
    }
   ],
   "source": [
    "clf_dt.fit(xtrain, ytrain)"
   ]
  },
  {
   "cell_type": "code",
   "execution_count": 55,
   "metadata": {},
   "outputs": [],
   "source": [
    "dt_pred = clf_dt.predict(xtest)\n",
    "dt_pred_prb=clf_dt.predict_proba(xtest)[:,1]"
   ]
  },
  {
   "cell_type": "code",
   "execution_count": 56,
   "metadata": {},
   "outputs": [
    {
     "name": "stdout",
     "output_type": "stream",
     "text": [
      "Accuracy: 0.7281833333333333\n"
     ]
    }
   ],
   "source": [
    "accuracy_dt = accuracy_score(ytest,dt_pred)\n",
    "print(\"Accuracy: {}\".format(accuracy_dt))"
   ]
  },
  {
   "cell_type": "code",
   "execution_count": 57,
   "metadata": {},
   "outputs": [
    {
     "name": "stdout",
     "output_type": "stream",
     "text": [
      "              precision    recall  f1-score   support\n",
      "\n",
      "           0       0.73      0.80      0.76     33213\n",
      "           1       0.72      0.64      0.68     26787\n",
      "\n",
      "    accuracy                           0.73     60000\n",
      "   macro avg       0.73      0.72      0.72     60000\n",
      "weighted avg       0.73      0.73      0.73     60000\n",
      "\n"
     ]
    }
   ],
   "source": [
    "print(classification_report(ytest,dt_pred))"
   ]
  },
  {
   "cell_type": "code",
   "execution_count": 58,
   "metadata": {},
   "outputs": [
    {
     "data": {
      "image/png": "[encoded data removed]",
      "text/plain": [
       "<Figure size 576x432 with 1 Axes>"
      ]
     },
     "metadata": {
      "needs_background": "light"
     },
     "output_type": "display_data"
    }
   ],
   "source": [
    "sns.set_context('poster')\n",
    "auc_dt=roc_auc_score(ytest,dt_pred_prb)\n",
    "fpr,tpr,threshold=roc_curve(ytest,dt_pred_prb)\n",
    "plot_roc_curve(fpr,tpr,label='AUC = %0.3f'% auc_dt)"
   ]
  },
  {
   "cell_type": "code",
   "execution_count": 59,
   "metadata": {},
   "outputs": [
    {
     "ename": "ModuleNotFoundError",
     "evalue": "No module named 'sklearn.externals.six'",
     "output_type": "error",
     "traceback": [
      "\u001b[1;31m---------------------------------------------------------------------------\u001b[0m",
      "\u001b[1;31mModuleNotFoundError\u001b[0m                       Traceback (most recent call last)",
      "\u001b[1;32m<ipython-input-59-6a5ee4e0c3d4>\u001b[0m in \u001b[0;36m<module>\u001b[1;34m\u001b[0m\n\u001b[1;32m----> 1\u001b[1;33m \u001b[1;32mfrom\u001b[0m \u001b[0msklearn\u001b[0m\u001b[1;33m.\u001b[0m\u001b[0mexternals\u001b[0m\u001b[1;33m.\u001b[0m\u001b[0msix\u001b[0m \u001b[1;32mimport\u001b[0m \u001b[0mStringIO\u001b[0m\u001b[1;33m\u001b[0m\u001b[1;33m\u001b[0m\u001b[0m\n\u001b[0m\u001b[0;32m      2\u001b[0m \u001b[1;32mfrom\u001b[0m \u001b[0mIPython\u001b[0m\u001b[1;33m.\u001b[0m\u001b[0mdisplay\u001b[0m \u001b[1;32mimport\u001b[0m \u001b[0mImage\u001b[0m\u001b[1;33m\u001b[0m\u001b[1;33m\u001b[0m\u001b[0m\n\u001b[0;32m      3\u001b[0m \u001b[1;32mfrom\u001b[0m \u001b[0msklearn\u001b[0m\u001b[1;33m.\u001b[0m\u001b[0mtree\u001b[0m \u001b[1;32mimport\u001b[0m \u001b[0mexport_graphviz\u001b[0m\u001b[1;33m\u001b[0m\u001b[1;33m\u001b[0m\u001b[0m\n\u001b[0;32m      4\u001b[0m \u001b[1;32mimport\u001b[0m \u001b[0mpydotplus\u001b[0m\u001b[1;33m\u001b[0m\u001b[1;33m\u001b[0m\u001b[0m\n\u001b[0;32m      5\u001b[0m \u001b[1;32mimport\u001b[0m \u001b[0mos\u001b[0m\u001b[1;33m\u001b[0m\u001b[1;33m\u001b[0m\u001b[0m\n",
      "\u001b[1;31mModuleNotFoundError\u001b[0m: No module named 'sklearn.externals.six'"
     ]
    }
   ],
   "source": [
    "from sklearn.externals.six import StringIO\n",
    "from IPython.display import Image\n",
    "from sklearn.tree import export_graphviz\n",
    "import pydotplus\n",
    "import os\n",
    "os.environ[\"Path\"] += os.pathsep + 'C:\\Program Files (x86)\\Graphviz2.38\\bin'"
   ]
  },
  {
   "cell_type": "code",
   "execution_count": null,
   "metadata": {},
   "outputs": [],
   "source": [
    "dot_data = StringIO()"
   ]
  },
  {
   "cell_type": "code",
   "execution_count": null,
   "metadata": {},
   "outputs": [],
   "source": [
    "export_graphviz(clf_dt, out_file=dot_data, filled=True, rounded=True, special_characters=True, feature_names=list(X.columns))"
   ]
  },
  {
   "cell_type": "code",
   "execution_count": null,
   "metadata": {},
   "outputs": [],
   "source": [
    "graph = pydotplus.graph_from_dot_data(dot_data.getvalue())"
   ]
  },
  {
   "cell_type": "code",
   "execution_count": null,
   "metadata": {},
   "outputs": [],
   "source": [
    "Image(graph.create_png())"
   ]
  },
  {
   "cell_type": "code",
   "execution_count": null,
   "metadata": {},
   "outputs": [],
   "source": [
    "clf_dt.feature_importances_"
   ]
  },
  {
   "cell_type": "code",
   "execution_count": null,
   "metadata": {},
   "outputs": [],
   "source": [
    "features_tuple=list(zip(X.columns,clf_dt.feature_importances_))"
   ]
  },
  {
   "cell_type": "code",
   "execution_count": null,
   "metadata": {},
   "outputs": [],
   "source": [
    "features_tuple"
   ]
  },
  {
   "cell_type": "code",
   "execution_count": null,
   "metadata": {},
   "outputs": [],
   "source": [
    "feature_imp=pd.DataFrame(features_tuple,columns=[\"Feature Names\",\"Importance\"])"
   ]
  },
  {
   "cell_type": "code",
   "execution_count": null,
   "metadata": {},
   "outputs": [],
   "source": [
    "feature_imp=feature_imp.sort_values(\"Importance\",ascending=False)"
   ]
  },
  {
   "cell_type": "code",
   "execution_count": null,
   "metadata": {},
   "outputs": [],
   "source": [
    "plt.figure(figsize=(12,6))\n",
    "sns.barplot(x=\"Feature Names\",y=\"Importance\", data=feature_imp, color='b')\n",
    "plt.ylabel(\"Importance\")\n",
    "plt.xticks(rotation=90)\n",
    "plt.title(\"Decision Classifier - Features Importance\")"
   ]
  },
  {
   "cell_type": "markdown",
   "metadata": {},
   "source": [
    "# 3. Random Forest"
   ]
  },
  {
   "cell_type": "code",
   "execution_count": null,
   "metadata": {},
   "outputs": [],
   "source": [
    "X = df.drop(['CHURN','CUSTOMER_ID'], axis=1)\n",
    "Y = df['CHURN']"
   ]
  },
  {
   "cell_type": "code",
   "execution_count": null,
   "metadata": {},
   "outputs": [],
   "source": [
    "xtrain, xtest, ytrain, ytest = train_test_split(X, Y, test_size=0.3)\n",
    "print(xtrain.shape, ytrain.shape)\n",
    "print(xtest.shape, ytest.shape)"
   ]
  },
  {
   "cell_type": "code",
   "execution_count": null,
   "metadata": {},
   "outputs": [],
   "source": [
    "clf_rf = RandomForestClassifier(max_depth=4)"
   ]
  },
  {
   "cell_type": "code",
   "execution_count": null,
   "metadata": {},
   "outputs": [],
   "source": [
    "clf_rf.fit(xtrain, ytrain)"
   ]
  },
  {
   "cell_type": "code",
   "execution_count": null,
   "metadata": {},
   "outputs": [],
   "source": [
    "rf_pred = clf_rf.predict(xtest)\n",
    "rf_pred_prb=clf_rf.predict_proba(xtest)[:,1]"
   ]
  },
  {
   "cell_type": "code",
   "execution_count": null,
   "metadata": {},
   "outputs": [],
   "source": [
    "accuracy_rf = accuracy_score(ytest,rf_pred)\n",
    "print(\"Accuracy: {}\".format(accuracy_rf))"
   ]
  },
  {
   "cell_type": "code",
   "execution_count": null,
   "metadata": {},
   "outputs": [],
   "source": [
    "print(classification_report(ytest,rf_pred))"
   ]
  },
  {
   "cell_type": "code",
   "execution_count": null,
   "metadata": {},
   "outputs": [],
   "source": [
    "auc_rf=roc_auc_score(ytest,rf_pred_prb)\n",
    "fpr,tpr,threshold=roc_curve(ytest,rf_pred_prb)\n",
    "plot_roc_curve(fpr,tpr,label='AUC = %0.3f'% auc_rf)"
   ]
  },
  {
   "cell_type": "code",
   "execution_count": null,
   "metadata": {},
   "outputs": [],
   "source": [
    "dot_data = StringIO()"
   ]
  },
  {
   "cell_type": "code",
   "execution_count": null,
   "metadata": {},
   "outputs": [],
   "source": [
    "tree = clf_rf.estimators_[9]"
   ]
  },
  {
   "cell_type": "code",
   "execution_count": null,
   "metadata": {},
   "outputs": [],
   "source": [
    "export_graphviz(tree, out_file=dot_data, filled=True, rounded=True, special_characters=True, feature_names=list(X.columns))"
   ]
  },
  {
   "cell_type": "code",
   "execution_count": null,
   "metadata": {},
   "outputs": [],
   "source": [
    "graph = pydotplus.graph_from_dot_data(dot_data.getvalue())"
   ]
  },
  {
   "cell_type": "code",
   "execution_count": null,
   "metadata": {},
   "outputs": [],
   "source": [
    "Image(graph.create_png())"
   ]
  },
  {
   "cell_type": "code",
   "execution_count": null,
   "metadata": {},
   "outputs": [],
   "source": [
    "features_tuple=list(zip(X.columns,clf_rf.feature_importances_))"
   ]
  },
  {
   "cell_type": "code",
   "execution_count": null,
   "metadata": {},
   "outputs": [],
   "source": [
    "feature_imp=pd.DataFrame(features_tuple,columns=[\"Feature Names\",\"Importance\"])"
   ]
  },
  {
   "cell_type": "code",
   "execution_count": null,
   "metadata": {},
   "outputs": [],
   "source": [
    "feature_imp=feature_imp.sort_values(\"Importance\",ascending=False)"
   ]
  },
  {
   "cell_type": "code",
   "execution_count": null,
   "metadata": {},
   "outputs": [],
   "source": [
    "plt.figure(figsize=(12,6))\n",
    "sns.barplot(x=\"Feature Names\",y=\"Importance\", data=feature_imp, color='b')\n",
    "plt.ylabel(\"Importance\")\n",
    "plt.xticks(rotation=90)\n",
    "plt.title(\"Random Forest Classifier - Features Importance\")"
   ]
  },
  {
   "cell_type": "markdown",
   "metadata": {},
   "source": [
    "### Hyperparameter Tuning using GridSearchCV"
   ]
  },
  {
   "cell_type": "code",
   "execution_count": null,
   "metadata": {},
   "outputs": [],
   "source": [
    "param_grid1 = {\"n_estimators\" : [10, 20, 30, 40, 50, 60, 70, 80],\n",
    "           \"max_depth\" : [1, 5, 10, 15, 20, 25, 30],\n",
    "           \"min_samples_leaf\" : [1, 2, 4, 6, 8, 10]}\n",
    "\n",
    "RF = RandomForestClassifier()\n",
    "# Instantiate the GridSearchCV object: logreg_cv\n",
    "RF_cv1 = GridSearchCV(RF, param_grid1, cv=5,scoring='roc_auc',n_jobs=4)\n",
    "\n",
    "# Fit it to the data\n",
    "RF_cv1.fit(xtrain,ytrain)\n",
    "\n",
    "RF_cv1.cv_results_, RF_cv1.best_params_, RF_cv1.best_score_"
   ]
  },
  {
   "cell_type": "code",
   "execution_count": null,
   "metadata": {},
   "outputs": [],
   "source": [
    "param_grid2 = {\"n_estimators\" : [67,68,69,70,71,72,73],\n",
    "           \"max_depth\" : [7,8,9,10,11,12,13],\n",
    "           \"min_samples_leaf\" : [1,2,3]}\n",
    "\n",
    "RF = RandomForestClassifier()\n",
    "# Instantiate the GridSearchCV object: logreg_cv\n",
    "RF_cv2 = GridSearchCV(RF, param_grid2, cv=5,scoring='roc_auc',n_jobs=4)\n",
    "\n",
    "# Fit it to the data\n",
    "RF_cv2.fit(xtrain,ytrain)\n",
    "\n",
    "RF_cv2.cv_results_, RF_cv2.best_params_, RF_cv2.best_score_"
   ]
  },
  {
   "cell_type": "markdown",
   "metadata": {},
   "source": [
    "### Tuned Random Forest"
   ]
  },
  {
   "cell_type": "markdown",
   "metadata": {},
   "source": [
    "Hence final parameters are:\n",
    "\n",
    "* n_estimators = 70\n",
    "* min_sample_leaf = 3\n",
    "* max_depth = 12"
   ]
  },
  {
   "cell_type": "code",
   "execution_count": null,
   "metadata": {},
   "outputs": [],
   "source": [
    "RF_tuned = RandomForestClassifier(max_depth=12, min_samples_leaf=3, n_estimators=70)"
   ]
  },
  {
   "cell_type": "code",
   "execution_count": null,
   "metadata": {},
   "outputs": [],
   "source": [
    "RF_tuned.fit(xtrain, ytrain)"
   ]
  },
  {
   "cell_type": "code",
   "execution_count": null,
   "metadata": {},
   "outputs": [],
   "source": [
    "rf_pred_t = RF_tuned.predict(xtest)\n",
    "rf_pred_prb_t=RF_tuned.predict_proba(xtest)[:,1]"
   ]
  },
  {
   "cell_type": "code",
   "execution_count": null,
   "metadata": {},
   "outputs": [],
   "source": [
    "accuracy_rf_t = accuracy_score(ytest,rf_pred_t)\n",
    "print(\"Accuracy affter tuning: {}\".format(accuracy_rf_t))"
   ]
  },
  {
   "cell_type": "code",
   "execution_count": null,
   "metadata": {},
   "outputs": [],
   "source": [
    "print(classification_report(ytest,rf_pred_t))"
   ]
  },
  {
   "cell_type": "code",
   "execution_count": null,
   "metadata": {},
   "outputs": [],
   "source": [
    "auc_rf_t=roc_auc_score(ytest,rf_pred_prb_t)\n",
    "fpr,tpr,threshold=roc_curve(ytest,rf_pred_prb_t)\n",
    "plot_roc_curve(fpr,tpr,label='AUC Tuned = %0.3f'% auc_rf_t)"
   ]
  },
  {
   "cell_type": "code",
   "execution_count": null,
   "metadata": {},
   "outputs": [],
   "source": [
    "RF_dict = {\"Algorithm\":[\"Random Forest\",\"Random Forest\"],\"Action\":[\"First Run\",\"Tuned\"],\n",
    "           \"Accuracy\":[accuracy_rf,accuracy_rf_t],\"AUC\":[auc_rf,auc_rf_t]}"
   ]
  },
  {
   "cell_type": "code",
   "execution_count": null,
   "metadata": {},
   "outputs": [],
   "source": [
    "comparison=pd.DataFrame(RF_dict)\n",
    "comparison"
   ]
  },
  {
   "cell_type": "code",
   "execution_count": null,
   "metadata": {},
   "outputs": [],
   "source": [
    "print(\"Difference in Accuracy is: %0.3f\"%((comparison.loc[1,'Accuracy']-comparison.loc[0,'Accuracy'])*100))\n",
    "print(\"Difference in AUC is: %0.3f\"%((comparison.loc[1,'AUC']-comparison.loc[0,'AUC'])*100))"
   ]
  },
  {
   "cell_type": "markdown",
   "metadata": {},
   "source": [
    "# 5. XGBoost"
   ]
  },
  {
   "cell_type": "code",
   "execution_count": null,
   "metadata": {},
   "outputs": [],
   "source": [
    "X = df.drop(['CHURN','CUSTOMER_ID'], axis=1)\n",
    "Y = df['CHURN']"
   ]
  },
  {
   "cell_type": "code",
   "execution_count": null,
   "metadata": {},
   "outputs": [],
   "source": [
    "xtrain, xtest, ytrain, ytest = train_test_split(X, Y, test_size=0.3)\n",
    "print(xtrain.shape, ytrain.shape)\n",
    "print(xtest.shape, ytest.shape)"
   ]
  },
  {
   "cell_type": "code",
   "execution_count": null,
   "metadata": {},
   "outputs": [],
   "source": [
    "clf_xgb = xgb.XGBClassifier(seed=25,nthread=1)"
   ]
  },
  {
   "cell_type": "code",
   "execution_count": null,
   "metadata": {},
   "outputs": [],
   "source": [
    "clf_xgb.fit(xtrain, ytrain)"
   ]
  },
  {
   "cell_type": "code",
   "execution_count": null,
   "metadata": {},
   "outputs": [],
   "source": [
    "xgb_pred = clf_xgb.predict(xtest)\n",
    "xgb_pred_prb=clf_xgb.predict_proba(xtest)[:,1]"
   ]
  },
  {
   "cell_type": "code",
   "execution_count": null,
   "metadata": {},
   "outputs": [],
   "source": [
    "accuracy_xgb = accuracy_score(ytest,xgb_pred)\n",
    "print(\"Accuracy: {}\".format(accuracy_xgb))"
   ]
  },
  {
   "cell_type": "code",
   "execution_count": null,
   "metadata": {},
   "outputs": [],
   "source": [
    "print(classification_report(ytest,xgb_pred))"
   ]
  },
  {
   "cell_type": "code",
   "execution_count": null,
   "metadata": {},
   "outputs": [],
   "source": [
    "auc_xgb=roc_auc_score(ytest,xgb_pred_prb)\n",
    "fpr,tpr,threshold=roc_curve(ytest,xgb_pred_prb)\n",
    "plot_roc_curve(fpr,tpr,label='AUC = %0.3f'% auc_xgb)"
   ]
  },
  {
   "cell_type": "code",
   "execution_count": null,
   "metadata": {},
   "outputs": [],
   "source": [
    "dtrain = xgb.DMatrix(data=xtrain, label=ytrain)"
   ]
  },
  {
   "cell_type": "code",
   "execution_count": null,
   "metadata": {},
   "outputs": [],
   "source": [
    "xgb_param=clf_xgb.get_params()"
   ]
  },
  {
   "cell_type": "code",
   "execution_count": null,
   "metadata": {},
   "outputs": [],
   "source": [
    "cv_result=xgb.cv(xgb_param,dtrain,num_boost_round=200,nfold=5,metrics={'auc'},early_stopping_rounds=10,seed=25)"
   ]
  },
  {
   "cell_type": "code",
   "execution_count": null,
   "metadata": {
    "scrolled": true
   },
   "outputs": [],
   "source": [
    "cv_result"
   ]
  },
  {
   "cell_type": "markdown",
   "metadata": {},
   "source": [
    "### Hyperparameters Tunung using GridSearchCV"
   ]
  },
  {
   "cell_type": "code",
   "execution_count": null,
   "metadata": {},
   "outputs": [],
   "source": [
    "def modelfit(alg, dtrain, xtrain, xtest, ytrain, ytest,useTrainCV=True, cv_folds=5, early_stopping_rounds=50):\n",
    "    \n",
    "    if useTrainCV:\n",
    "        xgb_param=alg.get_params()\n",
    "        cv_result=xgb.cv(xgb_param,dtrain,num_boost_round=alg.get_params()['n_estimators'],nfold=cv_folds,metrics={'auc'},\n",
    "                     early_stopping_rounds=early_stopping_rounds,seed=25)\n",
    "        alg.set_params(n_estimators=cv_result.shape[0])\n",
    "        print(\"n_estimators : \",alg.get_params()['n_estimators'])\n",
    "    \n",
    "    #fit algorithm on data\n",
    "    alg.fit(xtrain,ytrain)\n",
    "    pred=alg.predict(xtest)\n",
    "    predprob=alg.predict_proba(xtest)[:,1]\n",
    "    \n",
    "    print (\"\\nModel Report\")\n",
    "    print (\"Accuracy(Test) : %.4g\" % accuracy_score(ytest, pred))\n",
    "    print (\"AUC Score(Test) : %f\" % roc_auc_score(ytest, predprob))"
   ]
  },
  {
   "cell_type": "code",
   "execution_count": null,
   "metadata": {},
   "outputs": [],
   "source": [
    "xgb1=xgb.XGBClassifier(learning_rate =0.1,\n",
    " n_estimators=1000,\n",
    " max_depth=5,\n",
    " min_child_weight=1,\n",
    " gamma=0,\n",
    " subsample=0.8,\n",
    " colsample_bytree=0.8,\n",
    " objective= 'binary:logistic',\n",
    " nthread=4,\n",
    " seed=25)"
   ]
  },
  {
   "cell_type": "code",
   "execution_count": null,
   "metadata": {},
   "outputs": [],
   "source": [
    "modelfit(xgb1,dtrain, xtrain, xtest,ytrain,ytest)"
   ]
  },
  {
   "cell_type": "markdown",
   "metadata": {},
   "source": [
    "**Tune max_depth and min_child_weight**"
   ]
  },
  {
   "cell_type": "code",
   "execution_count": null,
   "metadata": {},
   "outputs": [],
   "source": [
    "param_test1 = {\n",
    " 'max_depth':range(3,15,2),\n",
    " 'min_child_weight':range(0,9,2)\n",
    "}\n",
    "\n",
    "gsearch1 = GridSearchCV(estimator = xgb.XGBClassifier( learning_rate =0.1, n_estimators=171, max_depth=5,\n",
    " min_child_weight=1, gamma=0.0, subsample=0.8, colsample_bytree=0.8,\n",
    " objective= 'binary:logistic', nthread=4, scale_pos_weight=1, seed=25), \n",
    " param_grid = param_test1, scoring='roc_auc',n_jobs=4,iid=False, cv=5)\n",
    "\n",
    "gsearch1.fit(xtrain,ytrain)\n",
    "\n",
    "gsearch1.cv_results_, gsearch1.best_params_, gsearch1.best_score_"
   ]
  },
  {
   "cell_type": "code",
   "execution_count": null,
   "metadata": {
    "scrolled": true
   },
   "outputs": [],
   "source": [
    "param_test1 = {\n",
    " 'max_depth':[4,5,6],\n",
    " 'min_child_weight':[3,4,5]\n",
    "}\n",
    "\n",
    "gsearch1 = GridSearchCV(estimator = xgb.XGBClassifier( learning_rate =0.1, n_estimators=171, max_depth=5,\n",
    " min_child_weight=1, gamma=0.0, subsample=0.8, colsample_bytree=0.8,\n",
    " objective= 'binary:logistic', nthread=4, scale_pos_weight=1, seed=25), \n",
    " param_grid = param_test1, scoring='roc_auc',n_jobs=4,iid=False, cv=5)\n",
    "\n",
    "gsearch1.fit(xtrain,ytrain)\n",
    "\n",
    "gsearch1.cv_results_, gsearch1.best_params_, gsearch1.best_score_"
   ]
  },
  {
   "cell_type": "markdown",
   "metadata": {},
   "source": [
    " So, optimum value of **max_depth is 5** and **min_child_weight is 4**"
   ]
  },
  {
   "cell_type": "markdown",
   "metadata": {},
   "source": [
    "**Tune gamma**"
   ]
  },
  {
   "cell_type": "code",
   "execution_count": null,
   "metadata": {
    "scrolled": true
   },
   "outputs": [],
   "source": [
    "param_test3 = {\n",
    " 'gamma':[i/10.0 for i in range(0,9)]\n",
    "}\n",
    "\n",
    "gsearch3 = GridSearchCV(estimator = xgb.XGBClassifier( learning_rate =0.1, n_estimators=171, max_depth=5,\n",
    " min_child_weight=4, gamma=0, subsample=0.8, colsample_bytree=0.8,\n",
    " objective= 'binary:logistic', nthread=4, scale_pos_weight=1, seed=42), \n",
    " param_grid = param_test3, scoring='roc_auc',n_jobs=4,iid=False, cv=5)\n",
    "\n",
    "gsearch3.fit(xtrain,ytrain)\n",
    "\n",
    "gsearch3.cv_results_, gsearch3.best_params_, gsearch3.best_score_"
   ]
  },
  {
   "cell_type": "markdown",
   "metadata": {},
   "source": [
    "So gamma optimum value which is **0.5**"
   ]
  },
  {
   "cell_type": "markdown",
   "metadata": {},
   "source": [
    "Before proceeding, a good idea would be to re-calibrate the number of boosting rounds for the updated parameters."
   ]
  },
  {
   "cell_type": "code",
   "execution_count": null,
   "metadata": {},
   "outputs": [],
   "source": [
    "xgb2=xgb.XGBClassifier(learning_rate =0.1,\n",
    " n_estimators=1000,\n",
    " max_depth=5,\n",
    " min_child_weight=4,\n",
    " gamma=0.5,\n",
    " subsample=0.8,\n",
    " colsample_bytree=0.8,\n",
    " objective= 'binary:logistic',\n",
    " nthread=4,\n",
    " seed=25)"
   ]
  },
  {
   "cell_type": "code",
   "execution_count": null,
   "metadata": {},
   "outputs": [],
   "source": [
    "modelfit(xgb1,dtrain, xtrain, xtest,ytrain,ytest)"
   ]
  },
  {
   "cell_type": "markdown",
   "metadata": {},
   "source": [
    "**Tune subsample and colsample_bytree**"
   ]
  },
  {
   "cell_type": "code",
   "execution_count": null,
   "metadata": {},
   "outputs": [],
   "source": [
    "param_test4 = {\n",
    " 'subsample':[i/10.0 for i in range(5,11)],\n",
    " 'colsample_bytree':[i/10.0 for i in range(5,11)]\n",
    "}\n",
    "\n",
    "gsearch4 = GridSearchCV(estimator = xgb.XGBClassifier( learning_rate =0.1, n_estimators=171, max_depth=5,\n",
    " min_child_weight=4, gamma=0.5, subsample=0.8, colsample_bytree=0.8,\n",
    " objective= 'binary:logistic', nthread=4, scale_pos_weight=1, seed=25), \n",
    " param_grid = param_test4, scoring='roc_auc',n_jobs=4,iid=False, cv=5)\n",
    "\n",
    "gsearch4.fit(xtrain,ytrain)\n",
    "\n",
    "gsearch4.cv_results_, gsearch4.best_params_, gsearch4.best_score_"
   ]
  },
  {
   "cell_type": "code",
   "execution_count": null,
   "metadata": {
    "scrolled": true
   },
   "outputs": [],
   "source": [
    "param_test5 = {\n",
    " 'subsample':[i/100.0 for i in range(45,75,5)],\n",
    " 'colsample_bytree':[i/100.0 for i in range(100,105,5)]\n",
    "}\n",
    "\n",
    "gsearch5 = GridSearchCV(estimator = xgb.XGBClassifier( learning_rate =0.1, n_estimators=171, max_depth=5,\n",
    " min_child_weight=4, gamma=0.5, subsample=0.8, colsample_bytree=0.8,\n",
    " objective= 'binary:logistic', nthread=4, scale_pos_weight=1, seed=25), \n",
    " param_grid = param_test5, scoring='roc_auc',n_jobs=4,iid=False, cv=5)\n",
    "\n",
    "gsearch5.fit(xtrain,ytrain)\n",
    "\n",
    "gsearch5.cv_results_, gsearch5.best_params_, gsearch5.best_score_"
   ]
  },
  {
   "cell_type": "markdown",
   "metadata": {},
   "source": [
    "Thus the optimum values are:\n",
    "\n",
    "* subsample: 0.7 \n",
    "* colsample_bytree: 1"
   ]
  },
  {
   "cell_type": "markdown",
   "metadata": {},
   "source": [
    "**Tuning Regularization Parameters**"
   ]
  },
  {
   "cell_type": "code",
   "execution_count": null,
   "metadata": {
    "scrolled": true
   },
   "outputs": [],
   "source": [
    "param_test6 = {\n",
    " 'reg_alpha':[0.1, 1, 2,0,5,10,20,50,100]\n",
    "}\n",
    "\n",
    "gsearch6 = GridSearchCV(estimator = xgb.XGBClassifier( learning_rate =0.1, n_estimators=171, max_depth=5,\n",
    " min_child_weight=4, gamma=0.5, subsample=0.7, colsample_bytree=1,\n",
    " objective= 'binary:logistic', nthread=4, scale_pos_weight=1, seed=25), \n",
    " param_grid = param_test6, scoring='roc_auc',n_jobs=4,iid=False, cv=5)\n",
    "\n",
    "gsearch6.fit(xtrain,ytrain)\n",
    "\n",
    "gsearch6.cv_results_, gsearch6.best_params_, gsearch6.best_score_"
   ]
  },
  {
   "cell_type": "code",
   "execution_count": null,
   "metadata": {
    "scrolled": true
   },
   "outputs": [],
   "source": [
    "param_test6 = {\n",
    " 'reg_alpha':[7,8,9,10,11,12,13]\n",
    "}\n",
    "\n",
    "gsearch6 = GridSearchCV(estimator = xgb.XGBClassifier( learning_rate =0.1, n_estimators=171, max_depth=5,\n",
    " min_child_weight=4, gamma=0.5, subsample=0.7, colsample_bytree=1,\n",
    " objective= 'binary:logistic', nthread=4, scale_pos_weight=1, seed=25), \n",
    " param_grid = param_test6, scoring='roc_auc',n_jobs=4,iid=False, cv=5)\n",
    "\n",
    "gsearch6.fit(xtrain,ytrain)\n",
    "\n",
    "gsearch6.cv_results_, gsearch6.best_params_, gsearch6.best_score_"
   ]
  },
  {
   "cell_type": "code",
   "execution_count": null,
   "metadata": {
    "scrolled": true
   },
   "outputs": [],
   "source": [
    "param_test6 = {\n",
    " 'reg_alpha':[10.5,11,11.5]\n",
    "}\n",
    "\n",
    "gsearch6 = GridSearchCV(estimator = xgb.XGBClassifier( learning_rate =0.1, n_estimators=171, max_depth=5,\n",
    " min_child_weight=4, gamma=0.5, subsample=0.7, colsample_bytree=1,\n",
    " objective= 'binary:logistic', nthread=4, scale_pos_weight=1, seed=25), \n",
    " param_grid = param_test6, scoring='roc_auc',n_jobs=4,iid=False, cv=5)\n",
    "\n",
    "gsearch6.fit(xtrain,ytrain)\n",
    "\n",
    "gsearch6.cv_results_, gsearch6.best_params_, gsearch6.best_score_"
   ]
  },
  {
   "cell_type": "markdown",
   "metadata": {},
   "source": [
    "**Reducing Learning Rate**"
   ]
  },
  {
   "cell_type": "code",
   "execution_count": null,
   "metadata": {},
   "outputs": [],
   "source": [
    "xgb3=xgb.XGBClassifier(learning_rate = 0.02,\n",
    " n_estimators=1000,\n",
    " max_depth=5,\n",
    " min_child_weight=4,\n",
    " gamma=0.5,\n",
    " subsample=0.7,\n",
    " colsample_bytree=1,\n",
    " reg_alpha=11,\n",
    " objective= 'binary:logistic',\n",
    " nthread=4,\n",
    " seed=25)"
   ]
  },
  {
   "cell_type": "code",
   "execution_count": null,
   "metadata": {},
   "outputs": [],
   "source": [
    "modelfit(xgb3,dtrain, xtrain, xtest, ytrain, ytest)"
   ]
  },
  {
   "cell_type": "code",
   "execution_count": null,
   "metadata": {},
   "outputs": [],
   "source": [
    "xgb3=xgb.XGBClassifier(learning_rate = 0.03,\n",
    " n_estimators=1000,\n",
    " max_depth=5,\n",
    " min_child_weight=4,\n",
    " gamma=0.5,\n",
    " subsample=0.7,\n",
    " colsample_bytree=1,\n",
    " reg_alpha=11,\n",
    " objective= 'binary:logistic',\n",
    " nthread=4,\n",
    " seed=25)"
   ]
  },
  {
   "cell_type": "code",
   "execution_count": null,
   "metadata": {},
   "outputs": [],
   "source": [
    "modelfit(xgb3,dtrain, xtrain, xtest, ytrain, ytest)"
   ]
  },
  {
   "cell_type": "markdown",
   "metadata": {},
   "source": [
    "### Tuned XGBoost"
   ]
  },
  {
   "cell_type": "markdown",
   "metadata": {},
   "source": [
    "Hence final parameters are:\n",
    "\n",
    "* n_estimators = 671\n",
    "* learning rate = 0.03\n",
    "* max_depth = 5\n",
    "* min_child_weight = 4\n",
    "* gamma = 0.5\n",
    "* subsample = 0.7\n",
    "* colsample_bytree = 1\n",
    "* reg_alpha = 11"
   ]
  },
  {
   "cell_type": "code",
   "execution_count": null,
   "metadata": {},
   "outputs": [],
   "source": [
    "xgb4=xgb.XGBClassifier(learning_rate =0.03,\n",
    " n_estimators=671,\n",
    " max_depth=5,\n",
    " min_child_weight=4,\n",
    " gamma=0.5,\n",
    " subsample=0.7,\n",
    " colsample_bytree=1,\n",
    " reg_alpha=11,\n",
    " objective= 'binary:logistic',\n",
    " nthread=4,\n",
    " seed=100)"
   ]
  },
  {
   "cell_type": "code",
   "execution_count": null,
   "metadata": {},
   "outputs": [],
   "source": [
    "xgb4.fit(xtrain, ytrain)"
   ]
  },
  {
   "cell_type": "code",
   "execution_count": null,
   "metadata": {},
   "outputs": [],
   "source": [
    "xgb_pred_t = xgb4.predict(xtest)\n",
    "xgb_pred_prb_t = xgb4.predict_proba(xtest)[:,1]"
   ]
  },
  {
   "cell_type": "code",
   "execution_count": null,
   "metadata": {},
   "outputs": [],
   "source": [
    "accuracy_xgb_t = accuracy_score(ytest,xgb_pred_t)\n",
    "print(\"Accuracy: {}\".format(accuracy_xgb_t))"
   ]
  },
  {
   "cell_type": "code",
   "execution_count": null,
   "metadata": {},
   "outputs": [],
   "source": [
    "print(classification_report(ytest,xgb_pred_t))"
   ]
  },
  {
   "cell_type": "code",
   "execution_count": null,
   "metadata": {},
   "outputs": [],
   "source": [
    "auc_xgb_t=roc_auc_score(ytest,xgb_pred_prb_t)\n",
    "fpr,tpr,threshold=roc_curve(ytest,xgb_pred_prb_t)\n",
    "plot_roc_curve(fpr,tpr,label='AUC = %0.3f'% auc_xgb_t)"
   ]
  },
  {
   "cell_type": "code",
   "execution_count": null,
   "metadata": {},
   "outputs": [],
   "source": [
    "RF_dict = {\"Model Name\":[\"Logistic Regression\",'Decision Tree',\"Random Forest\",'Random Forest Tuned','XGBoot','XGBoost Tuned'],\n",
    "           \"Accuracy\":[accuracy_lr,accuracy_dt,accuracy_rf,accuracy_rf_t,accuracy_xgb,accuracy_xgb_t],\n",
    "           \"AUC\":[auc_lr,auc_dt,auc_rf,auc_rf_t,auc_xgb,auc_xgb_t]}\n",
    "comparison=pd.DataFrame(RF_dict)\n",
    "comparison"
   ]
  },
  {
   "cell_type": "code",
   "execution_count": null,
   "metadata": {},
   "outputs": [],
   "source": [
    "comparison.sort_values(by=['AUC'],ascending=False)"
   ]
  },
  {
   "cell_type": "code",
   "execution_count": null,
   "metadata": {},
   "outputs": [],
   "source": []
  }
 ],
 "metadata": {
  "kernelspec": {
   "display_name": "Python 3",
   "language": "python",
   "name": "python3"
  },
  "language_info": {
   "codemirror_mode": {
    "name": "ipython",
    "version": 3
   },
   "file_extension": ".py",
   "mimetype": "text/x-python",
   "name": "python",
   "nbconvert_exporter": "python",
   "pygments_lexer": "ipython3",
   "version": "3.8.5"
  }
 },
 "nbformat": 4,
 "nbformat_minor": 2
}
